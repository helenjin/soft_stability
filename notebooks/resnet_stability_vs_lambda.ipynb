{
 "cells": [
  {
   "cell_type": "code",
   "execution_count": 1,
   "id": "67b50500-b1c2-48a9-9145-362d66be7cc9",
   "metadata": {},
   "outputs": [],
   "source": [
    "import torch\n",
    "import torchvision\n",
    "import matplotlib.pyplot as plt\n",
    "from tqdm.notebook import tqdm\n",
    "from transformers import ViTForImageClassification\n",
    "import numpy as np\n",
    "\n",
    "import sys; sys.path.append(\"../src/\")\n",
    "from models import SmoothMaskedImageClassifier\n",
    "from data_utils import load_images_from_directory\n",
    "from stability import soft_stability_rate\n",
    "\n",
    "torch.manual_seed(1234)\n",
    "device = \"cuda\" if torch.cuda.is_available() else \"cpu\""
   ]
  },
  {
   "cell_type": "code",
   "execution_count": 2,
   "id": "60381195-c963-4676-ba46-bb41e215d404",
   "metadata": {},
   "outputs": [],
   "source": [
    "run_stuff = True\n",
    "overwrite_cache = True"
   ]
  },
  {
   "cell_type": "code",
   "execution_count": 3,
   "id": "cad14614-42aa-4c07-913f-d052c4c42320",
   "metadata": {},
   "outputs": [
    {
     "name": "stdout",
     "output_type": "stream",
     "text": [
      "torch.Size([1000, 3, 224, 224])\n"
     ]
    }
   ],
   "source": [
    "images = load_images_from_directory(\"/home/antonxue/foo/imagenet-sample-images\").to(device)\n",
    "print(images.shape)"
   ]
  },
  {
   "cell_type": "code",
   "execution_count": 4,
   "id": "35588aff-7bfa-44e1-8303-f796e6d80ec8",
   "metadata": {},
   "outputs": [
    {
     "name": "stdout",
     "output_type": "stream",
     "text": [
      "torch.Size([50, 3, 224, 224])\n"
     ]
    }
   ],
   "source": [
    "idxs = torch.randperm(len(images))[:50]\n",
    "images = images[idxs]\n",
    "print(images.shape)"
   ]
  },
  {
   "cell_type": "code",
   "execution_count": 5,
   "id": "9321d550-27fe-40d8-8728-cdd7c6ad849c",
   "metadata": {},
   "outputs": [],
   "source": [
    "lambdas = [1.0, 0.8, 0.6]\n",
    "radii = [10, 20, 30, 40, 50, 60, 70, 80, 90, 100]\n",
    "stability_rates = []"
   ]
  },
  {
   "cell_type": "code",
   "execution_count": 6,
   "id": "4413248e-20e8-4387-9dd2-4dae284fe399",
   "metadata": {},
   "outputs": [
    {
     "data": {
      "application/vnd.jupyter.widget-view+json": {
       "model_id": "fc0f8226a53f4cb5940d2da399f1d49e",
       "version_major": 2,
       "version_minor": 0
      },
      "text/plain": [
       "  0%|          | 0/10 [00:00<?, ?it/s]"
      ]
     },
     "metadata": {},
     "output_type": "display_data"
    },
    {
     "data": {
      "application/vnd.jupyter.widget-view+json": {
       "model_id": "6eaf203415404c1793c82f28bc688a84",
       "version_major": 2,
       "version_minor": 0
      },
      "text/plain": [
       "  0%|          | 0/10 [00:00<?, ?it/s]"
      ]
     },
     "metadata": {},
     "output_type": "display_data"
    },
    {
     "data": {
      "application/vnd.jupyter.widget-view+json": {
       "model_id": "b73ebbe938584ca69e5750d469c7de14",
       "version_major": 2,
       "version_minor": 0
      },
      "text/plain": [
       "  0%|          | 0/10 [00:00<?, ?it/s]"
      ]
     },
     "metadata": {},
     "output_type": "display_data"
    }
   ],
   "source": [
    "if run_stuff:\n",
    "    for lambda_ in lambdas:\n",
    "        smooth_model = SmoothMaskedImageClassifier(\n",
    "            torchvision.models.resnet18(weights=torchvision.models.ResNet18_Weights.IMAGENET1K_V1),\n",
    "            num_samples = 64,\n",
    "            lambda_ = lambda_\n",
    "        ).eval().to(device)\n",
    "        \n",
    "        with torch.no_grad():\n",
    "            lambda_rates = []\n",
    "            pbar = tqdm(radii)\n",
    "            for r in pbar:\n",
    "                accum = 0\n",
    "                for img in images:\n",
    "                    hot_bits = torch.randperm(196)[:49]\n",
    "                    alpha = torch.nn.functional.one_hot(hot_bits, 196).sum(dim=0).to(device)\n",
    "                    accum += soft_stability_rate(smooth_model, img, alpha, r, epsilon=0.1).item()\n",
    "                lambda_rates.append(accum / len(images))\n",
    "                pbar.set_description(\n",
    "                    f\"lambda {lambda_:.2f}, radius {r}, stab rate {lambda_rates[-1]:.3f}\"\n",
    "                )\n",
    "            stability_rates.append(np.array(lambda_rates))"
   ]
  },
  {
   "cell_type": "code",
   "execution_count": 7,
   "id": "782a573d-39bc-40ca-a55d-e3b4d0a51dc9",
   "metadata": {},
   "outputs": [],
   "source": [
    "if overwrite_cache and len(stability_rates) > 0:\n",
    "    torch.save(\n",
    "        {\"lambdas\":lambdas, \"stablity_rates\":stability_rates},\n",
    "        \"_cache/resnet_stability_vs_lambda.pt\"\n",
    "    )"
   ]
  },
  {
   "cell_type": "code",
   "execution_count": 8,
   "id": "9324f44a-2135-4c83-923e-60295ff0b7eb",
   "metadata": {},
   "outputs": [
    {
     "data": {
      "text/plain": [
       "<Figure size 640x480 with 0 Axes>"
      ]
     },
     "metadata": {},
     "output_type": "display_data"
    },
    {
     "data": {
      "image/png": "[encoded data removed]",
      "text/plain": [
       "<Figure size 400x200 with 1 Axes>"
      ]
     },
     "metadata": {},
     "output_type": "display_data"
    }
   ],
   "source": [
    "fs = 12\n",
    "plt.clf()\n",
    "fig, ax = plt.subplots(figsize=(4,2))\n",
    "\n",
    "for i, lam in enumerate(lambdas):\n",
    "    ax.plot(radii, stability_rates[i], label=f\"$\\lambda = {lam:.1f}$\")\n",
    "\n",
    "ax.set_ylabel(\"Stability Rate\", fontsize=fs)\n",
    "ax.set_xlabel(\"Perturbation Radius\", fontsize=fs)\n",
    "\n",
    "ax.tick_params(axis=\"x\", labelsize=fs-2)\n",
    "ax.tick_params(axis=\"y\", labelsize=fs-2)\n",
    "\n",
    "ax.legend(title=\"ResNet18\", loc=\"lower left\", title_fontsize=fs, fontsize=fs)\n",
    "plt.savefig(\"../figures/resnet18_stability_vs_lambda.pdf\", bbox_inches=\"tight\")"
   ]
  },
  {
   "cell_type": "code",
   "execution_count": null,
   "id": "42e8c16a-ba61-4daa-ac78-1afbaac5ed83",
   "metadata": {},
   "outputs": [],
   "source": []
  },
  {
   "cell_type": "code",
   "execution_count": null,
   "id": "44d3371a-2eb1-42a5-9d30-04c45932fa66",
   "metadata": {},
   "outputs": [],
   "source": []
  }
 ],
 "metadata": {
  "kernelspec": {
   "display_name": "Python 3 (ipykernel)",
   "language": "python",
   "name": "python3"
  },
  "language_info": {
   "codemirror_mode": {
    "name": "ipython",
    "version": 3
   },
   "file_extension": ".py",
   "mimetype": "text/x-python",
   "name": "python",
   "nbconvert_exporter": "python",
   "pygments_lexer": "ipython3",
   "version": "3.10.13"
  }
 },
 "nbformat": 4,
 "nbformat_minor": 5
}
