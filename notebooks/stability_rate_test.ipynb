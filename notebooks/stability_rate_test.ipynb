{
 "cells": [
  {
   "cell_type": "code",
   "execution_count": null,
   "id": "a4dd62ee-9f5e-47cc-86f2-f155c14f2674",
   "metadata": {},
   "outputs": [],
   "source": [
    "import torch\n",
    "import torch.nn.functional as F\n",
    "\n",
    "from transformers import ViTForImageClassification\n",
    "import matplotlib.pyplot as plt\n",
    "\n",
    "import sys\n",
    "sys.path.append(\"../src/\")\n",
    "\n",
    "from stability import *\n",
    "from img.img_utils import *\n",
    "\n",
    "device = \"cuda\""
   ]
  },
  {
   "cell_type": "code",
   "execution_count": null,
   "id": "8aeb2b1b-477d-45c7-a773-dfc51a5a5c18",
   "metadata": {},
   "outputs": [],
   "source": [
    "images = load_images_from_directory(\"/home/antonxue/foo/imagenet-sample-images/\").to(device)\n",
    "images.shape"
   ]
  },
  {
   "cell_type": "code",
   "execution_count": null,
   "id": "930bc32d-7b6b-4d23-b777-dd7cc372d520",
   "metadata": {},
   "outputs": [],
   "source": [
    "# model = MyMaskedImageClassifier(tvm.resnet18(weights=tvm.ResNet18_Weights.IMAGENET1K_V1), grid_size=(7,7))\n",
    "model = MyMaskedImageClassifier(\n",
    "    ViTForImageClassification.from_pretrained(\"google/vit-base-patch16-224\"), grid_size=(14,14)\n",
    ")\n",
    "model.eval().to(device)\n",
    "\n",
    "# bin_model = BinarizedMaskedImageClassifier(model, images[0])\n",
    "# bin_model.eval().to(device)\n",
    "\n",
    "# mbin_model = SmoothingWrapper(bin_model, lambda_=0.9)\n",
    "# mbin_model.eval().to(device);\n",
    ";"
   ]
  },
  {
   "cell_type": "code",
   "execution_count": null,
   "id": "195be1ed-8cbd-4687-b299-25cfc5d554ba",
   "metadata": {},
   "outputs": [],
   "source": []
  },
  {
   "cell_type": "code",
   "execution_count": null,
   "id": "9cd997d4-6d2e-4895-8dfe-b914ed537150",
   "metadata": {},
   "outputs": [],
   "source": [
    "all_rets = []\n",
    "for x in images[:20]:\n",
    "    ret = soft_stability_rate(model, x, (torch.rand(14,14) < 0.40).to(device).float(), radius=50, batch_size=100, return_all=True)\n",
    "    print(ret[\"soft_stability_rate\"].item())\n",
    "    all_rets.append(ret)\n",
    "    # print(ssg.item())"
   ]
  },
  {
   "cell_type": "code",
   "execution_count": null,
   "id": "41a5a715-3dc5-4968-9ba1-af83a83020aa",
   "metadata": {},
   "outputs": [],
   "source": [
    "ret[\"y\"].shape"
   ]
  },
  {
   "cell_type": "code",
   "execution_count": null,
   "id": "e6fc8c09-68de-40f3-b244-9496d7a75d13",
   "metadata": {},
   "outputs": [],
   "source": [
    "ret[\"y_pertbs\"].shape"
   ]
  },
  {
   "cell_type": "code",
   "execution_count": null,
   "id": "78ae00ed-cc65-4618-a83c-fd0f7e93e79b",
   "metadata": {},
   "outputs": [],
   "source": []
  }
 ],
 "metadata": {
  "kernelspec": {
   "display_name": "Python 3 (ipykernel)",
   "language": "python",
   "name": "python3"
  },
  "language_info": {
   "codemirror_mode": {
    "name": "ipython",
    "version": 3
   },
   "file_extension": ".py",
   "mimetype": "text/x-python",
   "name": "python",
   "nbconvert_exporter": "python",
   "pygments_lexer": "ipython3",
   "version": "3.10.10"
  }
 },
 "nbformat": 4,
 "nbformat_minor": 5
}
