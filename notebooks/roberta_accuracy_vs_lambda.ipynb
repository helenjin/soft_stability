{
 "cells": [
  {
   "cell_type": "code",
   "execution_count": 1,
   "id": "cdec76b3-035c-46c9-8658-b60e009ef9b2",
   "metadata": {},
   "outputs": [],
   "source": [
    "import torch\n",
    "import numpy as np\n",
    "import matplotlib.pyplot as plt\n",
    "from tqdm.notebook import tqdm\n",
    "\n",
    "import sys; sys.path.append(\"../src/\")\n",
    "from data_utils import TweetDataset\n",
    "from models import SmoothMaskedTextClassifier\n",
    "from transformers import AutoModelForSequenceClassification\n",
    "from stability import soft_stability_rate_text\n",
    "\n",
    "torch.manual_seed(1234)\n",
    "device = \"cuda\" if torch.cuda.is_available() else \"cpu\""
   ]
  },
  {
   "cell_type": "code",
   "execution_count": 2,
   "id": "3a7d8a78-d2df-4e21-a919-82096389f6eb",
   "metadata": {},
   "outputs": [],
   "source": [
    "run_stuff = True\n",
    "overwrite_cache = True"
   ]
  },
  {
   "cell_type": "code",
   "execution_count": null,
   "id": "99f038f2-0be6-43fa-b3a3-93562f79effe",
   "metadata": {},
   "outputs": [],
   "source": []
  },
  {
   "cell_type": "code",
   "execution_count": 3,
   "id": "9cc82449-82c0-41f2-b86b-838257c39001",
   "metadata": {},
   "outputs": [
    {
     "name": "stdout",
     "output_type": "stream",
     "text": [
      "374\n"
     ]
    }
   ],
   "source": [
    "# Labels: anger (0), joy (1), optimism (2), sadness (3)\n",
    "dataset = TweetDataset(\n",
    "    \"/shared_data0/helenjin/tweeteval/datasets/emotion/val_text.txt\",\n",
    "    \"/shared_data0/helenjin/tweeteval/datasets/emotion/val_labels.txt\",\n",
    "    task = \"emotion\"\n",
    ")\n",
    "print(len(dataset))"
   ]
  },
  {
   "cell_type": "code",
   "execution_count": null,
   "id": "004ae516-4dc0-4512-afb6-0ab5c52f5303",
   "metadata": {},
   "outputs": [],
   "source": []
  },
  {
   "cell_type": "code",
   "execution_count": 4,
   "id": "f9e88597-acf1-4ff9-8eef-a8654e1e1c56",
   "metadata": {},
   "outputs": [
    {
     "name": "stdout",
     "output_type": "stream",
     "text": [
      "[1.0, 0.9, 0.8, 0.7, 0.6, 0.5, 0.4, 0.3, 0.25, 0.2, 0.1]\n"
     ]
    }
   ],
   "source": [
    "lambdas = [1.0, 0.9, 0.8, 0.7, 0.6, 0.5, 0.4, 0.3, 0.25, 0.2, 0.1]\n",
    "print(lambdas)"
   ]
  },
  {
   "cell_type": "code",
   "execution_count": 5,
   "id": "0e022081-5143-484b-bc8e-30eeabc27d90",
   "metadata": {},
   "outputs": [],
   "source": [
    "accs = []"
   ]
  },
  {
   "cell_type": "code",
   "execution_count": 6,
   "id": "23e31fb5-bf13-4eb7-9302-4a5064a96c60",
   "metadata": {},
   "outputs": [
    {
     "name": "stderr",
     "output_type": "stream",
     "text": [
      "/opt/conda/lib/python3.10/site-packages/torch/_utils.py:831: UserWarning: TypedStorage is deprecated. It will be removed in the future and UntypedStorage will be the only storage class. This should only matter to you if you are using storages directly.  To access UntypedStorage directly, use tensor.untyped_storage() instead of tensor.storage()\n",
      "  return self.fget.__get__(instance, owner)()\n"
     ]
    },
    {
     "data": {
      "application/vnd.jupyter.widget-view+json": {
       "model_id": "1174c3471e8e4a55b2b98441e31087ec",
       "version_major": 2,
       "version_minor": 0
      },
      "text/plain": [
       "  0%|          | 0/374 [00:00<?, ?it/s]"
      ]
     },
     "metadata": {},
     "output_type": "display_data"
    },
    {
     "data": {
      "application/vnd.jupyter.widget-view+json": {
       "model_id": "88d6af2047b64d5d9b38fcebc58d7a26",
       "version_major": 2,
       "version_minor": 0
      },
      "text/plain": [
       "  0%|          | 0/374 [00:00<?, ?it/s]"
      ]
     },
     "metadata": {},
     "output_type": "display_data"
    },
    {
     "data": {
      "application/vnd.jupyter.widget-view+json": {
       "model_id": "a6ace87d821049e7a4eeccd60762a3b5",
       "version_major": 2,
       "version_minor": 0
      },
      "text/plain": [
       "  0%|          | 0/374 [00:00<?, ?it/s]"
      ]
     },
     "metadata": {},
     "output_type": "display_data"
    },
    {
     "data": {
      "application/vnd.jupyter.widget-view+json": {
       "model_id": "9dbe6d7670fe4c219b235dd7ffc877c7",
       "version_major": 2,
       "version_minor": 0
      },
      "text/plain": [
       "  0%|          | 0/374 [00:00<?, ?it/s]"
      ]
     },
     "metadata": {},
     "output_type": "display_data"
    },
    {
     "data": {
      "application/vnd.jupyter.widget-view+json": {
       "model_id": "0638e1c0c01f49a08ab4653965d7692d",
       "version_major": 2,
       "version_minor": 0
      },
      "text/plain": [
       "  0%|          | 0/374 [00:00<?, ?it/s]"
      ]
     },
     "metadata": {},
     "output_type": "display_data"
    },
    {
     "data": {
      "application/vnd.jupyter.widget-view+json": {
       "model_id": "8e6c66a83d7f475e9fedc0e62f797d86",
       "version_major": 2,
       "version_minor": 0
      },
      "text/plain": [
       "  0%|          | 0/374 [00:00<?, ?it/s]"
      ]
     },
     "metadata": {},
     "output_type": "display_data"
    },
    {
     "data": {
      "application/vnd.jupyter.widget-view+json": {
       "model_id": "34a2ff2fb2d64548bbcc26f1d564f737",
       "version_major": 2,
       "version_minor": 0
      },
      "text/plain": [
       "  0%|          | 0/374 [00:00<?, ?it/s]"
      ]
     },
     "metadata": {},
     "output_type": "display_data"
    },
    {
     "data": {
      "application/vnd.jupyter.widget-view+json": {
       "model_id": "791974c5b74d4c919a9602ed965581d0",
       "version_major": 2,
       "version_minor": 0
      },
      "text/plain": [
       "  0%|          | 0/374 [00:00<?, ?it/s]"
      ]
     },
     "metadata": {},
     "output_type": "display_data"
    },
    {
     "data": {
      "application/vnd.jupyter.widget-view+json": {
       "model_id": "5c04a8a3c47e4ada82bfc7e8daa07a16",
       "version_major": 2,
       "version_minor": 0
      },
      "text/plain": [
       "  0%|          | 0/374 [00:00<?, ?it/s]"
      ]
     },
     "metadata": {},
     "output_type": "display_data"
    },
    {
     "data": {
      "application/vnd.jupyter.widget-view+json": {
       "model_id": "ce9e1eb090f24ad69688ab0f58281fc3",
       "version_major": 2,
       "version_minor": 0
      },
      "text/plain": [
       "  0%|          | 0/374 [00:00<?, ?it/s]"
      ]
     },
     "metadata": {},
     "output_type": "display_data"
    },
    {
     "data": {
      "application/vnd.jupyter.widget-view+json": {
       "model_id": "82d86664630a4a3abcf9adf0442673d6",
       "version_major": 2,
       "version_minor": 0
      },
      "text/plain": [
       "  0%|          | 0/374 [00:00<?, ?it/s]"
      ]
     },
     "metadata": {},
     "output_type": "display_data"
    }
   ],
   "source": [
    "if run_stuff:\n",
    "    for lambda_ in lambdas:\n",
    "        smooth_roberta = SmoothMaskedTextClassifier(\n",
    "            AutoModelForSequenceClassification.from_pretrained(\"cardiffnlp/twitter-roberta-base-emotion\"),\n",
    "            num_samples = 64,\n",
    "            lambda_ = lambda_\n",
    "        ).eval().to(device)\n",
    "\n",
    "        hits, num_dones = 0, 0\n",
    "        pbar = tqdm(dataset)\n",
    "        with torch.no_grad():\n",
    "            for inputs, label in pbar:\n",
    "                out = smooth_roberta(\n",
    "                    input_ids = inputs[\"input_ids\"].to(device),\n",
    "                    attention_mask = inputs[\"attention_mask\"].to(device)\n",
    "                )\n",
    "                hits += (out.argmax(dim=-1) == label).item()\n",
    "                num_dones += 1\n",
    "                pbar.set_description(f\"lambda {lambda_:.3f}, acc {(hits/num_dones):.3f}\")\n",
    "            accs.append(hits/num_dones)"
   ]
  },
  {
   "cell_type": "code",
   "execution_count": null,
   "id": "d43d4fe2-de4f-4ce7-825c-53fe3aa13b4d",
   "metadata": {},
   "outputs": [],
   "source": []
  },
  {
   "cell_type": "code",
   "execution_count": 7,
   "id": "f70674c4-83ee-4f73-b7b9-f335f09b8f5c",
   "metadata": {},
   "outputs": [],
   "source": [
    "if overwrite_cache and len(accs) > 0:\n",
    "    torch.save({\"lambdas\":lambdas, \"accs\":accs}, \"_cache/roberta_accuracy_vs_lambda.pt\")"
   ]
  },
  {
   "cell_type": "code",
   "execution_count": null,
   "id": "45c23ee3-13f9-4136-bfa0-d71da72cf61f",
   "metadata": {},
   "outputs": [],
   "source": []
  },
  {
   "cell_type": "code",
   "execution_count": 8,
   "id": "01f08488-3915-4d34-9c9e-714a955dc7b3",
   "metadata": {},
   "outputs": [],
   "source": [
    "# accs = torch.load(\"_cache/roberta_accuracy_vs_lambda.pt\")[\"accs\"]"
   ]
  },
  {
   "cell_type": "code",
   "execution_count": 43,
   "id": "ec40e47c-5587-4702-9d5f-07c74d8fbd03",
   "metadata": {},
   "outputs": [
    {
     "data": {
      "text/plain": [
       "<Figure size 640x480 with 0 Axes>"
      ]
     },
     "metadata": {},
     "output_type": "display_data"
    },
    {
     "data": {
      "image/png": "[encoded data removed]",
      "text/plain": [
       "<Figure size 400x200 with 1 Axes>"
      ]
     },
     "metadata": {},
     "output_type": "display_data"
    }
   ],
   "source": [
    "fs = 12\n",
    "plt.clf()\n",
    "fig, ax = plt.subplots(figsize=(4,2))\n",
    "ax.plot(lambdas, accs)\n",
    "plt.gca().invert_xaxis()\n",
    "\n",
    "ax.set_xticks([1.0, 0.9, 0.8, 0.7, 0.6, 0.5, 0.4, 0.3, 0.2, 0.1])\n",
    "ax.set_ylabel(\"Accuracy\", fontsize=fs)\n",
    "ax.set_xlabel(\"Smoothing Parameter $\\lambda$\", fontsize=fs)\n",
    "\n",
    "ax.tick_params(axis=\"both\", labelsize=fs-2)\n",
    "ax.axvline(x=1.0, color=\"green\", linestyle=\"--\", linewidth=2, label=f\"{accs[0]:.3f}\")\n",
    "ax.axvline(x=0.5, color=\"orange\", linestyle=\"--\", linewidth=2, label=f\"{accs[5]:.3f}\")\n",
    "ax.axvline(x=0.25, color=\"red\", linestyle=\"--\", linewidth=2, label=f\"{accs[7]:.3f}\")\n",
    "\n",
    "ax.legend(title=\"RoBERTa\", loc=\"lower left\", title_fontsize=fs, fontsize=fs)\n",
    "plt.savefig(\"../figures/roberta_accuracy_vs_lambda.pdf\", bbox_inches=\"tight\")"
   ]
  },
  {
   "cell_type": "code",
   "execution_count": null,
   "id": "ca08969b-8d7c-4f70-b628-a7d1e43a884d",
   "metadata": {},
   "outputs": [],
   "source": []
  }
 ],
 "metadata": {
  "kernelspec": {
   "display_name": "Python 3 (ipykernel)",
   "language": "python",
   "name": "python3"
  },
  "language_info": {
   "codemirror_mode": {
    "name": "ipython",
    "version": 3
   },
   "file_extension": ".py",
   "mimetype": "text/x-python",
   "name": "python",
   "nbconvert_exporter": "python",
   "pygments_lexer": "ipython3",
   "version": "3.10.13"
  }
 },
 "nbformat": 4,
 "nbformat_minor": 5
}
