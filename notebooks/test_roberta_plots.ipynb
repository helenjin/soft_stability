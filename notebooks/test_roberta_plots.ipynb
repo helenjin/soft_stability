{
 "cells": [
  {
   "cell_type": "code",
   "execution_count": 32,
   "id": "ef6a9de7-d781-4b45-85d7-28e6fc0bf011",
   "metadata": {
    "tags": []
   },
   "outputs": [],
   "source": [
    "import torch\n",
    "import matplotlib.pyplot as plt\n",
    "from tqdm.notebook import tqdm\n",
    "\n",
    "import sys; sys.path.append(\"../src/\")\n",
    "from data_utils import TweetDataset\n",
    "from models import MaskedTextClassifier, CertifiedMuSTextClassifier\n",
    "from transformers import AutoModelForSequenceClassification\n",
    "from pathlib import Path\n",
    "from stability import soft_stability_rate_text\n",
    "\n",
    "\n",
    "from explanations import \\\n",
    "    get_lime_for_text, get_shap_for_text, get_intgrad_for_text, get_mfaba_for_text\n",
    "\n",
    "device = \"cuda\" if torch.cuda.is_available() else \"cpu\""
   ]
  },
  {
   "cell_type": "code",
   "execution_count": 2,
   "id": "1bf6ac40-5170-4b2e-889d-544607ce69ad",
   "metadata": {
    "tags": []
   },
   "outputs": [],
   "source": [
    "# emotion labels:\n",
    "# 0\tanger\n",
    "# 1\tjoy\n",
    "# 2\toptimism\n",
    "# 3\tsadness"
   ]
  },
  {
   "cell_type": "code",
   "execution_count": 3,
   "id": "b55214a1-071a-4b0f-916e-ef5ac394f1d7",
   "metadata": {
    "tags": []
   },
   "outputs": [],
   "source": [
    "text_path = \"/shared_data0/helenjin/tweeteval/datasets/emotion/val_text.txt\"\n",
    "labels_path = \"/shared_data0/helenjin/tweeteval/datasets/emotion/val_labels.txt\""
   ]
  },
  {
   "cell_type": "code",
   "execution_count": 4,
   "id": "d230c484-618a-4fa3-9db5-78b1226d6fe8",
   "metadata": {
    "tags": []
   },
   "outputs": [
    {
     "data": {
      "application/vnd.jupyter.widget-view+json": {
       "model_id": "4a3179afd1a7407ca9b59a3afd003830",
       "version_major": 2,
       "version_minor": 0
      },
      "text/plain": [
       "Downloading config.json:   0%|          | 0.00/768 [00:00<?, ?B/s]"
      ]
     },
     "metadata": {},
     "output_type": "display_data"
    },
    {
     "data": {
      "application/vnd.jupyter.widget-view+json": {
       "model_id": "cca4dff726004f87af2877553e725a14",
       "version_major": 2,
       "version_minor": 0
      },
      "text/plain": [
       "Downloading vocab.json:   0%|          | 0.00/899k [00:00<?, ?B/s]"
      ]
     },
     "metadata": {},
     "output_type": "display_data"
    },
    {
     "data": {
      "application/vnd.jupyter.widget-view+json": {
       "model_id": "4b7f017249e94bc6b7ee4d4e8201374d",
       "version_major": 2,
       "version_minor": 0
      },
      "text/plain": [
       "Downloading merges.txt:   0%|          | 0.00/456k [00:00<?, ?B/s]"
      ]
     },
     "metadata": {},
     "output_type": "display_data"
    },
    {
     "data": {
      "application/vnd.jupyter.widget-view+json": {
       "model_id": "9b41b7795ac14e359507a81111ebca84",
       "version_major": 2,
       "version_minor": 0
      },
      "text/plain": [
       "Downloading (…)cial_tokens_map.json:   0%|          | 0.00/150 [00:00<?, ?B/s]"
      ]
     },
     "metadata": {},
     "output_type": "display_data"
    },
    {
     "name": "stdout",
     "output_type": "stream",
     "text": [
      "374\n"
     ]
    }
   ],
   "source": [
    "data = TweetDataset(text_path, labels_path, task='emotion')\n",
    "print(len(data))"
   ]
  },
  {
   "cell_type": "code",
   "execution_count": 5,
   "id": "d965500f-f524-4978-84ab-8d16c9c444bf",
   "metadata": {
    "tags": []
   },
   "outputs": [
    {
     "data": {
      "application/vnd.jupyter.widget-view+json": {
       "model_id": "d3fc9c6d98ed4fa592195a3bc06fb64f",
       "version_major": 2,
       "version_minor": 0
      },
      "text/plain": [
       "Downloading pytorch_model.bin:   0%|          | 0.00/499M [00:00<?, ?B/s]"
      ]
     },
     "metadata": {},
     "output_type": "display_data"
    }
   ],
   "source": [
    "raw_model = AutoModelForSequenceClassification.from_pretrained(\n",
    "        \"cardiffnlp/twitter-roberta-base-emotion\")\n",
    "raw_model.eval().to(device);"
   ]
  },
  {
   "cell_type": "code",
   "execution_count": 6,
   "id": "ba64fa67-80e1-464e-9950-cfee2c5c9249",
   "metadata": {
    "tags": []
   },
   "outputs": [],
   "source": [
    "model = MaskedTextClassifier(raw_model)"
   ]
  },
  {
   "cell_type": "markdown",
   "id": "38162891-8735-433f-80f3-878b62204871",
   "metadata": {},
   "source": [
    "## Explanations take a while to generate, so we recommend using the cached version"
   ]
  },
  {
   "cell_type": "code",
   "execution_count": 7,
   "id": "78d6ea54-6c41-4a7c-9ea2-2e0024e84dc5",
   "metadata": {
    "tags": []
   },
   "outputs": [],
   "source": [
    "prefix = \"/shared_data0/helenjin/ssg/notebooks/\""
   ]
  },
  {
   "cell_type": "code",
   "execution_count": 8,
   "id": "00d92530-b211-4426-afcb-1d287188ae41",
   "metadata": {
    "tags": []
   },
   "outputs": [],
   "source": [
    "# Generating explanations is expensive, so we'll cache things as needed\n",
    "use_cache = True # Set to false if you wanna do it from scratch\n",
    "cache_dir = Path(\"_cache\")\n",
    "lime_cache_file = prefix / cache_dir / \"roberta_lime.pt\"\n",
    "shap_cache_file = prefix / cache_dir / \"roberta_shap.pt\"\n",
    "intgrad_cache_file = prefix / cache_dir / \"roberta_intgrad.pt\"\n",
    "mfaba_cache_file = prefix / cache_dir / \"roberta_mfaba.pt\"\n",
    "random_cache_file = prefix / cache_dir / \"roberta_random.pt\"\n",
    "cache_dir.mkdir(parents=True, exist_ok=True)"
   ]
  },
  {
   "cell_type": "code",
   "execution_count": 8,
   "id": "d9a06064-d241-4cd6-9de0-47a6205b8723",
   "metadata": {
    "tags": []
   },
   "outputs": [],
   "source": [
    "return_verbose = True\n",
    "if return_verbose:\n",
    "    cache_dir_full = Path(f\"{prefix}_cache/full_expln_output\")\n",
    "    cache_dir_full.mkdir(parents=True, exist_ok=True)\n",
    "    \n",
    "    cache_dir_attrs = Path(f\"{prefix}_cache/attrs\")\n",
    "    cache_dir_attrs.mkdir(parents=True, exist_ok=True)"
   ]
  },
  {
   "cell_type": "code",
   "execution_count": 10,
   "id": "ade13339-2967-464a-8570-a402ce42dda9",
   "metadata": {
    "tags": []
   },
   "outputs": [
    {
     "name": "stdout",
     "output_type": "stream",
     "text": [
      "LIME explanations 374\n"
     ]
    }
   ],
   "source": [
    "if lime_cache_file.exists() and use_cache:\n",
    "    lime_explanations = torch.load(lime_cache_file)\n",
    "else:\n",
    "    print(\"Running LIME\")\n",
    "    if return_verbose:\n",
    "        print(\"Saving everything\")\n",
    "        lime_explanations = []\n",
    "        for i in tqdm(range(len(data))):\n",
    "            text = data[i]\n",
    "            lime_expln_alpha, lime_expln, lime_expln_attrs = get_lime_for_text(\n",
    "                model, text[0]['input_ids'], text[0]['attention_mask'], data.tokenizer, return_verbose=True)\n",
    "            torch.save(lime_expln, cache_dir_full / f'roberta_lime_text{i}.pt')\n",
    "            torch.save(lime_expln_attrs, cache_dir_attrs / f'roberta_lime_text{i}.pt')\n",
    "            lime_explanations.append(lime_expln_alpha)        \n",
    "    else:\n",
    "        print(\"Saving just masked explanations\")\n",
    "        lime_explanations = [get_lime_for_text((\n",
    "                model, text[0]['input_ids'], text[0]['attention_mask']), data.tokenizer) for text in tqdm(data)]\n",
    "    torch.save(lime_explanations, lime_cache_file) \n",
    "print(\"LIME explanations\", len(lime_explanations))"
   ]
  },
  {
   "cell_type": "code",
   "execution_count": 11,
   "id": "355a55b6-9026-47ec-a6eb-d7628b2db6ec",
   "metadata": {
    "tags": []
   },
   "outputs": [
    {
     "name": "stdout",
     "output_type": "stream",
     "text": [
      "SHAP explanations 374\n"
     ]
    }
   ],
   "source": [
    "if shap_cache_file.exists() and use_cache:\n",
    "    shap_explanations = torch.load(shap_cache_file)\n",
    "else:\n",
    "    print(\"Running SHAP\")\n",
    "    if return_verbose:\n",
    "        print(\"Saving everything\")\n",
    "        shap_explanations = []\n",
    "        for i in tqdm(range(len(data))):\n",
    "            text = data[i]\n",
    "            shap_expln_alpha, shap_expln, shap_expln_attrs = get_shap_for_text(\n",
    "                model, text[0]['input_ids'], text[0]['attention_mask'], data.tokenizer, return_verbose=True)\n",
    "            torch.save(shap_expln, cache_dir_full / f'roberta_shap_text{i}.pt')\n",
    "            torch.save(shap_expln_attrs, cache_dir_attrs / f'roberta_shap_text{i}.pt')\n",
    "            shap_explanations.append(shap_expln_alpha)\n",
    "    else:\n",
    "        print(\"Saving just masked explanations\")\n",
    "        shap_explanations = [get_shap_for_text((\n",
    "                model, text[0]['input_ids'], text[0]['attention_mask']), data.tokenizer) for text in tqdm(data)]\n",
    "    torch.save(shap_explanations, shap_cache_file) \n",
    "print(\"SHAP explanations\", len(shap_explanations))"
   ]
  },
  {
   "cell_type": "code",
   "execution_count": 12,
   "id": "2456bdf5-c93d-4732-9c8b-f33db7ccfcc7",
   "metadata": {
    "tags": []
   },
   "outputs": [
    {
     "name": "stdout",
     "output_type": "stream",
     "text": [
      "IntGrad explanations 374\n"
     ]
    }
   ],
   "source": [
    "if intgrad_cache_file.exists() and use_cache:\n",
    "    intgrad_explanations = torch.load(intgrad_cache_file)\n",
    "else:\n",
    "    print(\"Running IntGrad\")\n",
    "    if return_verbose:\n",
    "        print(\"Saving everything\")\n",
    "        intgrad_explanations = []\n",
    "        for i in tqdm(range(len(data))):\n",
    "            text = data[i]\n",
    "            intgrad_expln_alpha, intgrad_expln, intgrad_expln_attrs = get_intgrad_for_text(\n",
    "                model, text[0]['input_ids'], text[0]['attention_mask'], return_verbose=True)\n",
    "            torch.save(intgrad_expln, cache_dir_full / f'roberta_intgrad_text{i}.pt')\n",
    "            torch.save(intgrad_expln_attrs, cache_dir_attrs / f'roberta_intgrad_text{i}.pt')\n",
    "            intgrad_explanations.append(intgrad_expln_alpha)\n",
    "    else:\n",
    "        print(\"Saving just masked explanations\")\n",
    "        intgrad_explanations = [get_intgrad_for_text((\n",
    "                model, text[0]['input_ids'], text[0]['attention_mask'])) for text in tqdm(data)]\n",
    "    torch.save(intgrad_explanations, intgrad_cache_file) \n",
    "print(\"IntGrad explanations\", len(intgrad_explanations))"
   ]
  },
  {
   "cell_type": "code",
   "execution_count": 13,
   "id": "6438e3d9-3d3b-4399-93f7-c3c146b8f87b",
   "metadata": {
    "tags": []
   },
   "outputs": [
    {
     "name": "stdout",
     "output_type": "stream",
     "text": [
      "MFABA explanations 374\n"
     ]
    }
   ],
   "source": [
    "if mfaba_cache_file.exists() and use_cache:\n",
    "    mfaba_explanations = torch.load(mfaba_cache_file)\n",
    "else:\n",
    "    print(\"Running MFABA\")\n",
    "    if return_verbose:\n",
    "        print(\"Saving everything\")\n",
    "        mfaba_explanations = []\n",
    "        for i in tqdm(range(len(data))):\n",
    "            text = data[i]\n",
    "            mfaba_expln_alpha, mfaba_expln, mfaba_expln_attrs = get_mfaba_for_text(\n",
    "                model, text[0]['input_ids'], text[0]['attention_mask'], return_verbose=True)\n",
    "            torch.save(mfaba_expln, cache_dir_full / f'roberta_mfaba_text{i}.pt')\n",
    "            torch.save(mfaba_expln_attrs, cache_dir_attrs / f'roberta_mfaba_text{i}.pt')\n",
    "            mfaba_explanations.append(mfaba_expln_alpha)\n",
    "    else:\n",
    "        print(\"Saving just masked explanations\")\n",
    "        mfaba_explanations = [get_mfaba_for_text((\n",
    "                model, text[0]['input_ids'], text[0]['attention_mask'])) for text in tqdm(data)]\n",
    "    torch.save(mfaba_explanations, mfaba_cache_file) \n",
    "print(\"MFABA explanations\", len(mfaba_explanations))"
   ]
  },
  {
   "cell_type": "code",
   "execution_count": 25,
   "id": "fbfa67d8-3964-419b-a681-423432ea8500",
   "metadata": {
    "tags": []
   },
   "outputs": [
    {
     "name": "stdout",
     "output_type": "stream",
     "text": [
      "Random explanations 374\n"
     ]
    }
   ],
   "source": [
    "if random_cache_file.exists() and use_cache:\n",
    "    random_explanations = torch.load(random_cache_file)\n",
    "else:\n",
    "    print(\"Running Random\")    \n",
    "    print(\"Saving just masked explanations\")\n",
    "    random_explanations = [get_random_for_text(text[0]['input_ids'].shape) for text in tqdm(data)]\n",
    "    torch.save(random_explanations, random_cache_file) \n",
    "print(\"Random explanations\", len(random_explanations))"
   ]
  },
  {
   "cell_type": "markdown",
   "id": "5fea89ca-ca09-485c-b99a-d5fa659440d8",
   "metadata": {},
   "source": [
    "## Soft stability rates for different models"
   ]
  },
  {
   "cell_type": "code",
   "execution_count": 26,
   "id": "ae81f61e-f91e-4d9a-8611-ba76562cf83d",
   "metadata": {
    "tags": []
   },
   "outputs": [],
   "source": [
    "eps, delta = 0.1, 0.1"
   ]
  },
  {
   "cell_type": "code",
   "execution_count": 27,
   "id": "d2794ad0-3a76-4903-b60e-d0e267bf3128",
   "metadata": {
    "tags": []
   },
   "outputs": [],
   "source": [
    "lime_stability_rates_file = cache_dir / \"roberta_lime_stability_rates.pt\"\n",
    "shap_stability_rates_file = cache_dir / \"roberta_shap_stability_rates.pt\"\n",
    "intgrad_stability_rates_file = cache_dir / \"roberta_intgrad_stability_rates.pt\"\n",
    "mfaba_stability_rates_file = cache_dir / \"roberta_mfaba_stability_rates.pt\"\n",
    "random_stability_rates_file = cache_dir / \"roberta_random_stability_rates.pt\""
   ]
  },
  {
   "cell_type": "code",
   "execution_count": 51,
   "id": "ccf0956b-00d4-4a1a-8229-f18016875f62",
   "metadata": {
    "tags": []
   },
   "outputs": [
    {
     "data": {
      "application/vnd.jupyter.widget-view+json": {
       "model_id": "c18156ddcd304c61b8d832d5aa6b1618",
       "version_major": 2,
       "version_minor": 0
      },
      "text/plain": [
       "  0%|          | 0/374 [00:00<?, ?it/s]"
      ]
     },
     "metadata": {},
     "output_type": "display_data"
    }
   ],
   "source": [
    "if lime_stability_rates_file.exists() and use_cache:\n",
    "    lime_stability_rates = torch.load(lime_stability_rates_file)\n",
    "else:\n",
    "    lime_stability_rates = []\n",
    "    for i, exp in enumerate(tqdm(lime_explanations)):\n",
    "        exp_sz = len(torch.nonzero(exp[0]))\n",
    "        all_radius = list(range(0, exp.size(1) - exp_sz, 1))\n",
    "        lime_stability_rates.append(torch.stack([\n",
    "            soft_stability_rate_text(\n",
    "                model, data[i][0]['input_ids'].to(device), data[i][0]['attention_mask'].to(device), alpha=exp.to(device), radius=r, epsilon=eps, delta=delta\n",
    "            ) for r in all_radius\n",
    "        ]))\n",
    "    # Find the maximum length\n",
    "    max_len = max(t.size(0) for t in lime_stability_rates)\n",
    "    # Pad tensors to the same length with NaN\n",
    "    lime_stability_rates = [torch.nn.functional.pad(t, (0, max_len - t.size(0)), value=float('nan')) for t in lime_stability_rates]\n",
    "    lime_stability_rates = torch.stack(lime_stability_rates).cpu()\n",
    "    torch.save(lime_stability_rates, lime_stability_rates_file)"
   ]
  },
  {
   "cell_type": "code",
   "execution_count": 52,
   "id": "7e7cf012-d71c-47aa-9c8d-a84774de027e",
   "metadata": {
    "tags": []
   },
   "outputs": [
    {
     "data": {
      "application/vnd.jupyter.widget-view+json": {
       "model_id": "4ffe5614d2964d37ba7e4b5d7cad329e",
       "version_major": 2,
       "version_minor": 0
      },
      "text/plain": [
       "  0%|          | 0/374 [00:00<?, ?it/s]"
      ]
     },
     "metadata": {},
     "output_type": "display_data"
    }
   ],
   "source": [
    "if shap_stability_rates_file.exists() and use_cache:\n",
    "    shap_stability_rates = torch.load(shap_stability_rates_file)\n",
    "else:\n",
    "    shap_stability_rates = []\n",
    "    for i, exp in enumerate(tqdm(shap_explanations)):\n",
    "        exp_sz = len(torch.nonzero(exp[0]))\n",
    "        all_radius = list(range(0, exp.size(1) - exp_sz, 1))\n",
    "        shap_stability_rates.append(torch.stack([\n",
    "            soft_stability_rate_text(\n",
    "                model, data[i][0]['input_ids'].to(device), data[i][0]['attention_mask'].to(device), alpha=exp.to(device), radius=r, epsilon=eps, delta=delta\n",
    "            ) for r in all_radius\n",
    "        ]))\n",
    "    # Find the maximum length\n",
    "    max_len = max(t.size(0) for t in shap_stability_rates)\n",
    "    # Pad tensors to the same length with NaN\n",
    "    shap_stability_rates = [torch.nn.functional.pad(t, (0, max_len - t.size(0)), value=float('nan')) for t in shap_stability_rates]\n",
    "    shap_stability_rates = torch.stack(shap_stability_rates).cpu()\n",
    "    torch.save(shap_stability_rates, shap_stability_rates_file)"
   ]
  },
  {
   "cell_type": "code",
   "execution_count": 53,
   "id": "0f9e8a67-6f8e-4312-9f2c-b70583f47e0a",
   "metadata": {
    "tags": []
   },
   "outputs": [
    {
     "data": {
      "application/vnd.jupyter.widget-view+json": {
       "model_id": "a5988b9c2c1d486abe96d2f0be526709",
       "version_major": 2,
       "version_minor": 0
      },
      "text/plain": [
       "  0%|          | 0/374 [00:00<?, ?it/s]"
      ]
     },
     "metadata": {},
     "output_type": "display_data"
    }
   ],
   "source": [
    "if intgrad_stability_rates_file.exists() and use_cache:\n",
    "    intgrad_stability_rates = torch.load(intgrad_stability_rates_file)\n",
    "else:\n",
    "    intgrad_stability_rates = []\n",
    "    for i, exp in enumerate(tqdm(intgrad_explanations)):\n",
    "        exp_sz = len(torch.nonzero(exp[0]))\n",
    "        all_radius = list(range(0, exp.size(1) - exp_sz, 1))\n",
    "        intgrad_stability_rates.append(torch.stack([\n",
    "            soft_stability_rate_text(\n",
    "                model, data[i][0]['input_ids'].to(device), data[i][0]['attention_mask'].to(device), alpha=exp.to(device), radius=r, epsilon=eps, delta=delta\n",
    "            ) for r in all_radius\n",
    "        ]))\n",
    "    # Find the maximum length\n",
    "    max_len = max(t.size(0) for t in intgrad_stability_rates)\n",
    "    # Pad tensors to the same length with NaN\n",
    "    intgrad_stability_rates = [torch.nn.functional.pad(t, (0, max_len - t.size(0)), value=float('nan')) for t in intgrad_stability_rates]\n",
    "    intgrad_stability_rates = torch.stack(intgrad_stability_rates).cpu()\n",
    "    torch.save(intgrad_stability_rates, intgrad_stability_rates_file)"
   ]
  },
  {
   "cell_type": "code",
   "execution_count": 54,
   "id": "32ffdfa7-8494-4dfb-9e7a-ea5580c855af",
   "metadata": {
    "tags": []
   },
   "outputs": [
    {
     "data": {
      "application/vnd.jupyter.widget-view+json": {
       "model_id": "02c81b713c6548e08da498643db4ccc7",
       "version_major": 2,
       "version_minor": 0
      },
      "text/plain": [
       "  0%|          | 0/374 [00:00<?, ?it/s]"
      ]
     },
     "metadata": {},
     "output_type": "display_data"
    }
   ],
   "source": [
    "if mfaba_stability_rates_file.exists() and use_cache:\n",
    "    mfaba_stability_rates = torch.load(mfaba_stability_rates_file)\n",
    "else:\n",
    "    mfaba_stability_rates = []\n",
    "    for i, exp in enumerate(tqdm(mfaba_explanations)):\n",
    "        exp_sz = len(torch.nonzero(exp[0]))\n",
    "        all_radius = list(range(0, exp.size(1) - exp_sz, 1))\n",
    "        mfaba_stability_rates.append(torch.stack([\n",
    "            soft_stability_rate_text(\n",
    "                model, data[i][0]['input_ids'].to(device), data[i][0]['attention_mask'].to(device), alpha=exp.to(device), radius=r, epsilon=eps, delta=delta\n",
    "            ) for r in all_radius\n",
    "        ]))\n",
    "    # Find the maximum length\n",
    "    max_len = max(t.size(0) for t in mfaba_stability_rates)\n",
    "    # Pad tensors to the same length with NaN\n",
    "    mfaba_stability_rates = [torch.nn.functional.pad(t, (0, max_len - t.size(0)), value=float('nan')) for t in mfaba_stability_rates]\n",
    "    mfaba_stability_rates = torch.stack(mfaba_stability_rates).cpu()\n",
    "    torch.save(mfaba_stability_rates, mfaba_stability_rates_file)"
   ]
  },
  {
   "cell_type": "code",
   "execution_count": 55,
   "id": "697c93b2-529a-4551-a348-159a1fb3b3ee",
   "metadata": {
    "tags": []
   },
   "outputs": [
    {
     "data": {
      "application/vnd.jupyter.widget-view+json": {
       "model_id": "ed16160ba0654cca8fe61a4767bdddda",
       "version_major": 2,
       "version_minor": 0
      },
      "text/plain": [
       "  0%|          | 0/374 [00:00<?, ?it/s]"
      ]
     },
     "metadata": {},
     "output_type": "display_data"
    }
   ],
   "source": [
    "if random_stability_rates_file.exists() and use_cache:\n",
    "    random_stability_rates = torch.load(random_stability_rates_file)\n",
    "else:\n",
    "    random_stability_rates = []\n",
    "    for i, exp in enumerate(tqdm(random_explanations)):\n",
    "        exp_sz = len(torch.nonzero(exp[0]))\n",
    "        all_radius = list(range(0, exp.size(1) - exp_sz, 1))\n",
    "        random_stability_rates.append(torch.stack([\n",
    "            soft_stability_rate_text(\n",
    "                model, data[i][0]['input_ids'].to(device), data[i][0]['attention_mask'].to(device), alpha=exp.to(device), radius=r, epsilon=eps, delta=delta\n",
    "            ) for r in all_radius\n",
    "        ]))\n",
    "    # Find the maximum length\n",
    "    max_len = max(t.size(0) for t in random_stability_rates)\n",
    "    # Pad tensors to the same length with NaN\n",
    "    random_stability_rates = [torch.nn.functional.pad(t, (0, max_len - t.size(0)), value=float('nan')) for t in random_stability_rates]\n",
    "    random_stability_rates = torch.stack(random_stability_rates).cpu()\n",
    "    torch.save(random_stability_rates, random_stability_rates_file)"
   ]
  },
  {
   "cell_type": "code",
   "execution_count": 59,
   "id": "fc9c7af4-885c-4e03-bc56-3603c775dd99",
   "metadata": {
    "tags": []
   },
   "outputs": [
    {
     "data": {
      "text/plain": [
       "<Figure size 640x480 with 0 Axes>"
      ]
     },
     "metadata": {},
     "output_type": "display_data"
    },
    {
     "data": {
      "image/png": "[encoded data removed]",
      "text/plain": [
       "<Figure size 400x200 with 1 Axes>"
      ]
     },
     "metadata": {},
     "output_type": "display_data"
    }
   ],
   "source": [
    "max_len = max(t.size(0) for t in lime_stability_rates)\n",
    "all_radius = list(range(0, max_len))\n",
    "\n",
    "\n",
    "plt.clf()\n",
    "plt.figure(figsize=(4, 2))\n",
    "plt.rcParams[\"font.family\"] = \"DejaVu Sans\"\n",
    "\n",
    "# plt.plot(all_radius, torch.nanmean(lime_stability_rates, dim=0), label=\"LIME\")\n",
    "# plt.plot(all_radius, torch.nanmean(intgrad_stability_rates, dim=0), label=\"IntGrad\")\n",
    "# plt.plot(all_radius, torch.nanmean(mfaba_stability_rates, dim=0), label=\"MFABA\")\n",
    "\n",
    "plt.plot(all_radius, torch.mean(torch.nan_to_num(lime_stability_rates, nan=0), dim=0)\n",
    ", label=\"LIME\")\n",
    "plt.plot(all_radius, torch.mean(torch.nan_to_num(shap_stability_rates, nan=0), dim=0)\n",
    ", label=\"SHAP\")\n",
    "plt.plot(all_radius, torch.mean(torch.nan_to_num(intgrad_stability_rates, nan=0), dim=0)\n",
    ", label=\"Intgrad\")\n",
    "plt.plot(all_radius, torch.mean(torch.nan_to_num(mfaba_stability_rates, nan=0), dim=0)\n",
    ", label=\"MFABA\")\n",
    "plt.plot(all_radius, torch.mean(torch.nan_to_num(random_stability_rates, nan=0), dim=0)\n",
    ", label=\"Random\")\n",
    "\n",
    "plt.xlabel('Radius')\n",
    "plt.ylabel('Soft Stability Rate')\n",
    "plt.legend(title=\"RoBERTa\", loc=\"upper right\", prop={'size': 9})\n",
    "# plt.title('Soft Stability')\n",
    "plt.savefig('_dump/roberta_tweeteval_soft.pdf', bbox_inches=\"tight\")\n",
    "plt.show()\n"
   ]
  },
  {
   "cell_type": "markdown",
   "id": "427d8087-5936-4705-89c5-48c9baa7e170",
   "metadata": {
    "tags": []
   },
   "source": [
    "## As a comparison, here are the certified radii when old-MuS uses lambda=0.25"
   ]
  },
  {
   "cell_type": "code",
   "execution_count": 63,
   "id": "e8c5a6ff-e6ef-48ea-a3c7-d97e84e95c4f",
   "metadata": {
    "tags": []
   },
   "outputs": [],
   "source": [
    "cert_mus_text = CertifiedMuSTextClassifier(raw_model, lambda_=0.25)"
   ]
  },
  {
   "cell_type": "code",
   "execution_count": 64,
   "id": "63719be1-b4b1-4127-8255-59ea3e84cb8b",
   "metadata": {
    "tags": []
   },
   "outputs": [
    {
     "data": {
      "application/vnd.jupyter.widget-view+json": {
       "model_id": "020661fe58014e4382b1818b43a3e3b0",
       "version_major": 2,
       "version_minor": 0
      },
      "text/plain": [
       "  0%|          | 0/374 [00:00<?, ?it/s]"
      ]
     },
     "metadata": {},
     "output_type": "display_data"
    }
   ],
   "source": [
    "cert_lime_stability_rates = torch.cat([\n",
    "    cert_mus_text(\n",
    "        input_ids=text[0]['input_ids'].to(device), \n",
    "        attention_mask=text[0]['attention_mask'].to(device), \n",
    "        alpha=exp.to(device))[\"cert_rs\"]\n",
    "    for text, exp in tqdm(zip(data, lime_explanations), total=len(data))\n",
    "], dim=0).cpu()\n",
    "\n",
    "cert_shap_stability_rates = torch.cat([\n",
    "    cert_mus_text(\n",
    "        input_ids=text[0]['input_ids'].to(device), \n",
    "        attention_mask=text[0]['attention_mask'].to(device), \n",
    "        alpha=exp.to(device))[\"cert_rs\"]\n",
    "    for text, exp in tqdm(zip(data, shap_explanations), total=len(data))\n",
    "], dim=0).cpu()\n",
    "\n",
    "cert_intgrad_stability_rates = torch.cat([\n",
    "    cert_mus_text(\n",
    "        input_ids=text[0]['input_ids'].to(device), \n",
    "        attention_mask=text[0]['attention_mask'].to(device), \n",
    "        alpha=exp.to(device))[\"cert_rs\"]\n",
    "    for text, exp in tqdm(zip(data, intgrad_explanations), total=len(data))\n",
    "], dim=0).cpu()\n",
    "\n",
    "cert_mfaba_stability_rates = torch.cat([\n",
    "    cert_mus_text(\n",
    "        input_ids=text[0]['input_ids'].to(device), \n",
    "        attention_mask=text[0]['attention_mask'].to(device), \n",
    "        alpha=exp.to(device))[\"cert_rs\"]\n",
    "    for text, exp in tqdm(zip(data, mfaba_explanations), total=len(data))\n",
    "], dim=0).cpu()\n",
    "\n",
    "cert_random_stability_rates = torch.cat([\n",
    "    cert_mus_text(\n",
    "        input_ids=text[0]['input_ids'].to(device), \n",
    "        attention_mask=text[0]['attention_mask'].to(device), \n",
    "        alpha=exp.to(device))[\"cert_rs\"]\n",
    "    for text, exp in tqdm(zip(data, random_explanations), total=len(data))\n",
    "], dim=0).cpu()"
   ]
  },
  {
   "cell_type": "code",
   "execution_count": 35,
   "id": "ca8d20a9-edcb-4ecb-ac84-e87f9307bee2",
   "metadata": {
    "tags": []
   },
   "outputs": [],
   "source": [
    "torch.save(cert_lime_stability_rates, cache_dir / \"roberta_lime_cert_stability_rates.pt\")\n",
    "torch.save(cert_shap_stability_rates, cache_dir / \"roberta_shap_cert_stability_rates.pt\")\n",
    "torch.save(cert_intgrad_stability_rates, cache_dir / \"roberta_intgrad_cert_stability_rates.pt\")\n",
    "torch.save(cert_mfaba_stability_rates, cache_dir / \"roberta_mfaba_cert_stability_rates.pt\")\n",
    "torch.save(cert_mfaba_stability_rates, cache_dir / \"roberta_random_cert_stability_rates.pt\")"
   ]
  },
  {
   "cell_type": "code",
   "execution_count": 65,
   "id": "32a6ae3c-09a5-4c23-87a6-77518290ab48",
   "metadata": {
    "tags": []
   },
   "outputs": [],
   "source": [
    "cert_lime_stability_rates = torch.load(prefix / cache_dir / \"roberta_lime_cert_stability_rates.pt\")\n",
    "cert_shap_stability_rates = torch.load(prefix / cache_dir / \"roberta_shap_cert_stability_rates.pt\")\n",
    "cert_intgrad_stability_rates = torch.load(prefix / cache_dir / \"roberta_intgrad_cert_stability_rates.pt\")\n",
    "cert_mfaba_stability_rates = torch.load(prefix / cache_dir / \"roberta_mfaba_cert_stability_rates.pt\")\n",
    "cert_random_stability_rates = torch.load(prefix / cache_dir / \"roberta_random_cert_stability_rates.pt\")"
   ]
  },
  {
   "cell_type": "code",
   "execution_count": 69,
   "id": "aae6ec5d-7c87-416b-8598-a392e537aed3",
   "metadata": {
    "tags": []
   },
   "outputs": [
    {
     "data": {
      "text/plain": [
       "<Figure size 640x480 with 0 Axes>"
      ]
     },
     "metadata": {},
     "output_type": "display_data"
    },
    {
     "data": {
      "image/png": "[encoded data removed]",
      "text/plain": [
       "<Figure size 400x200 with 1 Axes>"
      ]
     },
     "metadata": {},
     "output_type": "display_data"
    }
   ],
   "source": [
    "plt.clf()\n",
    "plt.figure(figsize=(4, 2))\n",
    "plt.rcParams[\"font.family\"] = \"DejaVu Sans\"\n",
    "\n",
    "plt.plot(cert_lime_stability_rates.sort(descending=True).values, [0.001 * i for i in range(0, len(data))], label=\"LIME\")\n",
    "plt.plot(cert_shap_stability_rates.sort(descending=True).values, [0.001 * i for i in range(0, len(data))], label=\"SHAP\")\n",
    "plt.plot(cert_intgrad_stability_rates.sort(descending=True).values, [0.001 * i for i in range(0, len(data))], label=\"IntGrad\")\n",
    "plt.plot(cert_mfaba_stability_rates.sort(descending=True).values, [0.001 * i for i in range(0, len(data))], label=\"MFABA\")\n",
    "plt.plot(cert_random_stability_rates.sort(descending=True).values, [0.001 * i for i in range(0, len(data))], label=\"Random\")\n",
    "plt.xlabel('Radius')\n",
    "plt.ylabel('Hard Stability Rate')\n",
    "plt.legend(title=\"RoBERTa\", loc=\"upper right\", prop={'size': 9})\n",
    "# plt.title('Hard Stability')\n",
    "plt.savefig('_dump/roberta_tweeteval_hard.pdf', bbox_inches=\"tight\")"
   ]
  },
  {
   "cell_type": "markdown",
   "id": "c9df46c1-0b3e-4459-915c-aecd95653433",
   "metadata": {
    "jp-MarkdownHeadingCollapsed": true,
    "tags": []
   },
   "source": [
    "## Combine soft and hard stability in the same plot"
   ]
  },
  {
   "cell_type": "code",
   "execution_count": 60,
   "id": "8f0e406b-f64c-4884-8323-4ba6395fe310",
   "metadata": {
    "tags": []
   },
   "outputs": [
    {
     "data": {
      "text/plain": [
       "<Figure size 640x480 with 0 Axes>"
      ]
     },
     "metadata": {},
     "output_type": "display_data"
    },
    {
     "data": {
      "image/png": "[encoded data removed]",
      "text/plain": [
       "<Figure size 600x400 with 1 Axes>"
      ]
     },
     "metadata": {},
     "output_type": "display_data"
    }
   ],
   "source": [
    "plt.clf()\n",
    "plt.figure(figsize=(6, 4))\n",
    "plt.plot(all_radius, torch.mean(torch.nan_to_num(lime_stability_rates, nan=0), dim=0)\n",
    ", label=\"LIME Soft\")\n",
    "plt.plot(all_radius, torch.mean(torch.nan_to_num(shap_stability_rates, nan=0), dim=0)\n",
    ", label=\"SHAP Soft\")\n",
    "plt.plot(all_radius, torch.mean(torch.nan_to_num(intgrad_stability_rates, nan=0), dim=0)\n",
    ", label=\"IntGrad Soft\")\n",
    "plt.plot(all_radius, torch.mean(torch.nan_to_num(mfaba_stability_rates, nan=0), dim=0)\n",
    ", label=\"MFABA Soft\")\n",
    "\n",
    "plt.plot(cert_lime_stability_rates.sort(descending=True).values, [0.001 * i for i in range(0, len(data))], label=\"LIME Hard\", color=\"#1f77b4\")\n",
    "plt.plot(cert_shap_stability_rates.sort(descending=True).values, [0.001 * i for i in range(0, len(data))], label=\"SHAP Hard\", color=\"#ff7f0e\")\n",
    "plt.plot(cert_intgrad_stability_rates.sort(descending=True).values, [0.001 * i for i in range(0, len(data))], label=\"IntGrad Hard\", color=\"#2ca02c\")\n",
    "plt.plot(cert_mfaba_stability_rates.sort(descending=True).values, [0.001 * i for i in range(0, len(data))], label=\"MFABA Hard\", color=\"#d62728\")\n",
    "plt.xlabel('Radius')\n",
    "plt.ylabel('Stability Rate')\n",
    "plt.legend(title=\"RoBERTa\", loc=\"upper right\", prop={'size': 7})\n",
    "plt.title('Soft vs. Hard Stability')\n",
    "plt.savefig('_dump/roberta_tweeteval_softvhard', bbox_inches=\"tight\")\n"
   ]
  },
  {
   "cell_type": "markdown",
   "id": "dfe211cb-4d87-445b-882b-fc08a9abe173",
   "metadata": {
    "jp-MarkdownHeadingCollapsed": true,
    "tags": []
   },
   "source": [
    "## Visualization tool"
   ]
  },
  {
   "cell_type": "code",
   "execution_count": null,
   "id": "92a072e8-324d-4c88-bc76-0d69d5174549",
   "metadata": {},
   "outputs": [],
   "source": [
    "\n",
    "from IPython.display import Markdown, display\n",
    "def printmd(string):\n",
    "    display(Markdown(string))\n",
    "\n",
    "def show_attrs(tokens, masks, normalize=True):\n",
    "    if normalize:\n",
    "        masks_max = masks.max(-1).values\n",
    "        masks_min = masks.min(-1).values\n",
    "        # import pdb; pdb.set_trace()\n",
    "        masks = (masks - masks_min) / (masks_max - masks_min)\n",
    "    print_str = \"\"\n",
    "    for i in range(len(tokens)):\n",
    "        expln_val = masks[i].item()\n",
    "        if expln_val == 0:\n",
    "            print_str += f\" {tokens[i]}\"\n",
    "        else:\n",
    "            print_str += f\"<span style='background-color:rgb({255 * (1-expln_val)},{255 * expln_val},{255 * expln_val})'> {tokens[i]}</span>\"\n",
    "    return print_str\n",
    "\n",
    "tokens = data.tokenizer.convert_ids_to_tokens(input_ids[0])\n",
    "# tokens = shap_expln.explainer_output.data[0]\n",
    "printmd(show_attrs(tokens, expln.attributions[0]))"
   ]
  },
  {
   "cell_type": "code",
   "execution_count": null,
   "id": "bb06efc0-7455-450c-9032-b87382c12af9",
   "metadata": {},
   "outputs": [],
   "source": []
  }
 ],
 "metadata": {
  "kernelspec": {
   "display_name": "Python 3 (ipykernel)",
   "language": "python",
   "name": "python3"
  },
  "language_info": {
   "codemirror_mode": {
    "name": "ipython",
    "version": 3
   },
   "file_extension": ".py",
   "mimetype": "text/x-python",
   "name": "python",
   "nbconvert_exporter": "python",
   "pygments_lexer": "ipython3",
   "version": "3.10.10"
  }
 },
 "nbformat": 4,
 "nbformat_minor": 5
}
