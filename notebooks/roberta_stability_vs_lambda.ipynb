{
 "cells": [
  {
   "cell_type": "code",
   "execution_count": 1,
   "id": "82a00bd6-4ee2-4796-94cd-57e2cb5e1bac",
   "metadata": {},
   "outputs": [],
   "source": [
    "import torch\n",
    "import numpy as np\n",
    "import matplotlib.pyplot as plt\n",
    "from tqdm.notebook import tqdm\n",
    "\n",
    "import sys; sys.path.append(\"../src/\")\n",
    "from data_utils import TweetDataset\n",
    "from models import SmoothMaskedTextClassifier\n",
    "from transformers import AutoModelForSequenceClassification\n",
    "from stability import soft_stability_rate_text\n",
    "\n",
    "torch.manual_seed(1234)\n",
    "device = \"cuda\" if torch.cuda.is_available() else \"cpu\""
   ]
  },
  {
   "cell_type": "code",
   "execution_count": 2,
   "id": "bdaf0acd-3088-499f-9c84-9399713b793e",
   "metadata": {},
   "outputs": [],
   "source": [
    "run_stuff = False\n",
    "overwrite_cache = False"
   ]
  },
  {
   "cell_type": "code",
   "execution_count": 3,
   "id": "c3df725e-d6ab-4384-a002-4cc06b359f2d",
   "metadata": {},
   "outputs": [
    {
     "name": "stdout",
     "output_type": "stream",
     "text": [
      "374\n"
     ]
    }
   ],
   "source": [
    "# Labels: anger (0), joy (1), optimism (2), sadness (3)\n",
    "dataset = TweetDataset(\n",
    "    \"/shared_data0/helenjin/tweeteval/datasets/emotion/val_text.txt\",\n",
    "    \"/shared_data0/helenjin/tweeteval/datasets/emotion/val_labels.txt\",\n",
    "    task = \"emotion\"\n",
    ")\n",
    "print(len(dataset))"
   ]
  },
  {
   "cell_type": "code",
   "execution_count": 4,
   "id": "337c4de2-3157-47a2-9138-443c5676fa50",
   "metadata": {},
   "outputs": [
    {
     "data": {
      "text/plain": [
       "tensor(28.3021)"
      ]
     },
     "execution_count": 4,
     "metadata": {},
     "output_type": "execute_result"
    }
   ],
   "source": [
    "# Average length\n",
    "torch.tensor([inputs[\"input_ids\"].size(-1) for inputs, _ in dataset]).float().mean()"
   ]
  },
  {
   "cell_type": "code",
   "execution_count": 5,
   "id": "c1df36bd-eabc-45fd-b5c8-a706b2b9eb0c",
   "metadata": {},
   "outputs": [
    {
     "data": {
      "text/plain": [
       "50"
      ]
     },
     "execution_count": 5,
     "metadata": {},
     "output_type": "execute_result"
    }
   ],
   "source": [
    "long_enough_data = [\n",
    "    (inputs, label)\n",
    "    for (inputs, label) in dataset\n",
    "    if inputs[\"input_ids\"].size(-1) >= 40\n",
    "]\n",
    "len(long_enough_data)"
   ]
  },
  {
   "cell_type": "code",
   "execution_count": 6,
   "id": "05da7855-1341-4e73-9fcc-0381d89c7ad5",
   "metadata": {},
   "outputs": [],
   "source": [
    "examples = long_enough_data"
   ]
  },
  {
   "cell_type": "code",
   "execution_count": 3,
   "id": "72fc7ec2-404d-4179-97d0-4c60a399b22b",
   "metadata": {},
   "outputs": [],
   "source": [
    "lambdas = [1.0, 0.8, 0.6]\n",
    "radii = [2, 4, 6, 8, 10, 12, 14, 16]\n",
    "stability_rates = []"
   ]
  },
  {
   "cell_type": "code",
   "execution_count": 8,
   "id": "5de0c715-a24e-474c-bc47-1625724d804f",
   "metadata": {},
   "outputs": [
    {
     "name": "stderr",
     "output_type": "stream",
     "text": [
      "/opt/conda/lib/python3.10/site-packages/torch/_utils.py:831: UserWarning: TypedStorage is deprecated. It will be removed in the future and UntypedStorage will be the only storage class. This should only matter to you if you are using storages directly.  To access UntypedStorage directly, use tensor.untyped_storage() instead of tensor.storage()\n",
      "  return self.fget.__get__(instance, owner)()\n"
     ]
    },
    {
     "data": {
      "application/vnd.jupyter.widget-view+json": {
       "model_id": "946fab6a5f04480e9ccae8344c86543c",
       "version_major": 2,
       "version_minor": 0
      },
      "text/plain": [
       "  0%|          | 0/8 [00:00<?, ?it/s]"
      ]
     },
     "metadata": {},
     "output_type": "display_data"
    },
    {
     "data": {
      "application/vnd.jupyter.widget-view+json": {
       "model_id": "45d5e740a03b41babff94ebd4a391e6a",
       "version_major": 2,
       "version_minor": 0
      },
      "text/plain": [
       "  0%|          | 0/8 [00:00<?, ?it/s]"
      ]
     },
     "metadata": {},
     "output_type": "display_data"
    },
    {
     "data": {
      "application/vnd.jupyter.widget-view+json": {
       "model_id": "d0c29d7417db4fefa8b3311a00185346",
       "version_major": 2,
       "version_minor": 0
      },
      "text/plain": [
       "  0%|          | 0/8 [00:00<?, ?it/s]"
      ]
     },
     "metadata": {},
     "output_type": "display_data"
    }
   ],
   "source": [
    "if run_stuff:\n",
    "    for lambda_ in lambdas:\n",
    "        smooth_model = SmoothMaskedTextClassifier(\n",
    "            AutoModelForSequenceClassification.from_pretrained(\"cardiffnlp/twitter-roberta-base-emotion\"),\n",
    "            num_samples = 64,\n",
    "            lambda_ = lambda_\n",
    "        ).eval().to(device)\n",
    "\n",
    "        with torch.no_grad():\n",
    "            lambda_rates = []\n",
    "            pbar = tqdm(radii)\n",
    "            for r in pbar:\n",
    "                accum = 0\n",
    "                for inputs, label in examples:\n",
    "                    input_ids = inputs[\"input_ids\"].squeeze().to(device)\n",
    "                    attn_mask = inputs[\"attention_mask\"].squeeze().to(device)\n",
    "                    L = input_ids.size(0)\n",
    "                    hot_bits = torch.randperm(L)[:int(0.25*L)]\n",
    "                    alpha = torch.nn.functional.one_hot(hot_bits, L).sum(dim=0).to(device)\n",
    "                    accum += soft_stability_rate_text(\n",
    "                        smooth_model,\n",
    "                        input_ids,\n",
    "                        attn_mask,\n",
    "                        alpha,\n",
    "                        r,\n",
    "                        epsilon=0.1\n",
    "                    ).item()\n",
    "                lambda_rates.append(accum / len(examples))\n",
    "                pbar.set_description(\n",
    "                    f\"lambda {lambda_:.2f}, radius {r}, stab rate {lambda_rates[-1]:.3f}\"\n",
    "                )\n",
    "            stability_rates.append(np.array(lambda_rates))"
   ]
  },
  {
   "cell_type": "code",
   "execution_count": 9,
   "id": "723bbb99-54b7-4c96-83a1-1dde9f370346",
   "metadata": {},
   "outputs": [],
   "source": [
    "if overwrite_cache and len(stability_rates) > 0:\n",
    "    torch.save(\n",
    "        {\"lambdas\":lambdas, \"stablity_rates\":stability_rates},\n",
    "        \"_cache/roberta_stability_vs_lambda.pt\"\n",
    "    )"
   ]
  },
  {
   "cell_type": "code",
   "execution_count": 5,
   "id": "c41a12bf-b720-4e1b-9f3e-18e3e3e640e5",
   "metadata": {},
   "outputs": [],
   "source": [
    "saved = torch.load(\"_cache/roberta_stability_vs_lambda.pt\")\n",
    "lambdas = saved[\"lambdas\"]\n",
    "stability_rates = saved[\"stablity_rates\"]"
   ]
  },
  {
   "cell_type": "code",
   "execution_count": 7,
   "id": "13d1682e-8351-456d-ad7f-62bb3b181893",
   "metadata": {},
   "outputs": [
    {
     "data": {
      "text/plain": [
       "<Figure size 640x480 with 0 Axes>"
      ]
     },
     "metadata": {},
     "output_type": "display_data"
    },
    {
     "data": {
      "image/png": "[encoded data removed]",
      "text/plain": [
       "<Figure size 400x200 with 1 Axes>"
      ]
     },
     "metadata": {},
     "output_type": "display_data"
    }
   ],
   "source": [
    "fs = 12\n",
    "plt.clf()\n",
    "fig, ax = plt.subplots(figsize=(4,2))\n",
    "\n",
    "for i, lam in enumerate(lambdas):\n",
    "    ax.plot(radii, stability_rates[i], label=f\"$\\lambda = {lam:.1f}$\")\n",
    "\n",
    "ax.set_xticks(radii)\n",
    "ax.set_ylabel(\"Stability Rate\", fontsize=fs)\n",
    "ax.set_xlabel(\"Perturbation Radius\", fontsize=fs)\n",
    "\n",
    "ax.tick_params(axis=\"x\", labelsize=fs-2)\n",
    "ax.tick_params(axis=\"y\", labelsize=fs-2)\n",
    "\n",
    "ax.legend(title=\"RoBERTa\", loc=\"lower left\", title_fontsize=fs, fontsize=fs)\n",
    "plt.savefig(\"../figures/roberta_stability_vs_lambda.pdf\", bbox_inches=\"tight\")"
   ]
  },
  {
   "cell_type": "code",
   "execution_count": null,
   "id": "479716ee-fb35-4d6f-b82f-1c22ef6c7416",
   "metadata": {},
   "outputs": [],
   "source": []
  }
 ],
 "metadata": {
  "kernelspec": {
   "display_name": "Python 3 (ipykernel)",
   "language": "python",
   "name": "python3"
  },
  "language_info": {
   "codemirror_mode": {
    "name": "ipython",
    "version": 3
   },
   "file_extension": ".py",
   "mimetype": "text/x-python",
   "name": "python",
   "nbconvert_exporter": "python",
   "pygments_lexer": "ipython3",
   "version": "3.10.13"
  }
 },
 "nbformat": 4,
 "nbformat_minor": 5
}
