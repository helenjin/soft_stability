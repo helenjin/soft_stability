{
 "cells": [
  {
   "cell_type": "code",
   "execution_count": 1,
   "id": "444660a7-0590-46de-b0ca-348e56943f54",
   "metadata": {},
   "outputs": [],
   "source": [
    "import torch\n",
    "import json\n",
    "import matplotlib.pyplot as plt"
   ]
  },
  {
   "cell_type": "code",
   "execution_count": 2,
   "id": "e7429e04-6c2f-441e-9794-f5069339ef58",
   "metadata": {},
   "outputs": [],
   "source": [
    "def nanmean(x, dim):\n",
    "    mask = ~torch.isnan(x)\n",
    "    x_zeroed = torch.where(mask, x, torch.tensor(0.0, device=x.device, dtype=x.dtype))\n",
    "    return x_zeroed.sum(dim=dim) / mask.sum(dim=dim)"
   ]
  },
  {
   "cell_type": "code",
   "execution_count": 3,
   "id": "381d9224-adc8-4f64-b4cf-d463371a79eb",
   "metadata": {},
   "outputs": [],
   "source": [
    "vit_lime_soft = torch.load(\"_cache/vit_lime_stability_rates.pt\", weights_only=True)\n",
    "vit_shap_soft = torch.load(\"_cache/vit_shap_stability_rates.pt\", weights_only=True)\n",
    "vit_intgrad_soft = torch.load(\"_cache/vit_intgrad_stability_rates.pt\", weights_only=True)\n",
    "vit_mfaba_soft = torch.load(\"_cache/vit_mfaba_stability_rates.pt\", weights_only=True)\n",
    "vit_random_soft = torch.load(\"_cache/vit_random_stability_rates.pt\", weights_only=True)"
   ]
  },
  {
   "cell_type": "code",
   "execution_count": 4,
   "id": "e391a7b7-ce98-4b37-8076-491cea9cb707",
   "metadata": {},
   "outputs": [],
   "source": [
    "vit_soft_dict = {\n",
    "    \"radii\": [1, 10, 20, 30, 40, 50, 60, 70, 80, 90, 100, 110, 120, 130, 140, 147],\n",
    "    \"lime\": vit_lime_soft.mean(dim=0).tolist(),\n",
    "    \"shap\": vit_shap_soft.mean(dim=0).tolist(),\n",
    "    \"intgrad\": vit_intgrad_soft.mean(dim=0).tolist(),\n",
    "    \"mfaba\": vit_mfaba_soft.mean(dim=0).tolist(),\n",
    "    \"random\": vit_random_soft.mean(dim=0).tolist(),\n",
    "}\n",
    "\n",
    "with open(\"_dump/json/vit_soft_stability.json\", \"w\") as f:\n",
    "    f.write(json.dumps(vit_soft_dict, indent=4))"
   ]
  },
  {
   "cell_type": "code",
   "execution_count": 5,
   "id": "e7bb989c-fa24-4694-911d-ec390cc296f4",
   "metadata": {},
   "outputs": [],
   "source": [
    "roberta_lime_soft = torch.load(\"_cache/roberta_lime_stability_rates.pt\", weights_only=True)\n",
    "roberta_shap_soft = torch.load(\"_cache/roberta_shap_stability_rates.pt\", weights_only=True)\n",
    "roberta_intgrad_soft = torch.load(\"_cache/roberta_intgrad_stability_rates.pt\", weights_only=True)\n",
    "roberta_mfaba_soft = torch.load(\"_cache/roberta_mfaba_stability_rates.pt\", weights_only=True)\n",
    "roberta_random_soft = torch.load(\"_cache/roberta_random_stability_rates.pt\", weights_only=True)"
   ]
  },
  {
   "cell_type": "code",
   "execution_count": 6,
   "id": "5bb723a2-d0c6-4fb9-a104-465dcd54d892",
   "metadata": {},
   "outputs": [],
   "source": [
    "roberta_soft_dict = {\n",
    "    \"radii\": [2, 4, 6, 8, 10, 12, 14, 16],\n",
    "    \"lime\": nanmean(roberta_lime_soft, dim=0).tolist(),\n",
    "    \"shap\": nanmean(roberta_shap_soft, dim=0).tolist(),\n",
    "    \"intgrad\": nanmean(roberta_intgrad_soft, dim=0).tolist(),\n",
    "    \"mfaba\": nanmean(roberta_mfaba_soft, dim=0).tolist(),\n",
    "    \"random\": nanmean(roberta_random_soft, dim=0).tolist(),\n",
    "}\n",
    "\n",
    "with open(\"_dump/json/roberta_soft_stability.json\", \"w\") as f:\n",
    "    f.write(json.dumps(roberta_soft_dict, indent=4))"
   ]
  },
  {
   "cell_type": "code",
   "execution_count": null,
   "id": "a444e5fb-c325-4992-9ae3-d9eeb256e03c",
   "metadata": {},
   "outputs": [],
   "source": []
  },
  {
   "cell_type": "code",
   "execution_count": 7,
   "id": "f979975e-96d8-4c3e-bf51-e2f93386a020",
   "metadata": {},
   "outputs": [],
   "source": [
    "vit_lime_hard = torch.load(\"_cache/vit_lime_cert_stability_rates.pt\", weights_only=True)\n",
    "vit_shap_hard = torch.load(\"_cache/vit_shap_cert_stability_rates.pt\", weights_only=True)\n",
    "vit_intgrad_hard = torch.load(\"_cache/vit_intgrad_cert_stability_rates.pt\", weights_only=True)\n",
    "vit_mfaba_hard = torch.load(\"_cache/vit_mfaba_cert_stability_rates.pt\", weights_only=True)\n",
    "vit_random_hard = torch.load(\"_cache/vit_random_cert_stability_rates.pt\", weights_only=True)"
   ]
  },
  {
   "cell_type": "code",
   "execution_count": 8,
   "id": "fdb9c20e-f8fb-4292-aa8c-9c631247a9c0",
   "metadata": {},
   "outputs": [],
   "source": [
    "hard_radii = torch.linspace(0, 2, 100)\n",
    "\n",
    "vit_hard_dict = {\n",
    "    \"radii\": hard_radii.tolist(),\n",
    "    \"lime\": [(vit_lime_hard >= r).float().mean().item() for r in hard_radii],\n",
    "    \"shap\": [(vit_shap_hard >= r).float().mean().item() for r in hard_radii],\n",
    "    \"intgrad\": [(vit_intgrad_hard >= r).float().mean().item() for r in hard_radii],\n",
    "    \"mfaba\": [(vit_mfaba_hard >= r).float().mean().item() for r in hard_radii],\n",
    "    \"random\": [(vit_random_hard >= r).float().mean().item() for r in hard_radii],\n",
    "}\n",
    "\n",
    "with open(\"_dump/json/vit_hard_stability.json\", \"w\") as f:\n",
    "    f.write(json.dumps(vit_hard_dict, indent=4))"
   ]
  },
  {
   "cell_type": "code",
   "execution_count": 9,
   "id": "29b55297-e9fe-43ca-9f73-95cedba2b453",
   "metadata": {},
   "outputs": [],
   "source": [
    "roberta_lime_hard = torch.load(\"_cache/roberta_lime_cert_stability_rates.pt\", weights_only=True)\n",
    "roberta_shap_hard = torch.load(\"_cache/roberta_shap_cert_stability_rates.pt\", weights_only=True)\n",
    "roberta_intgrad_hard = torch.load(\"_cache/roberta_intgrad_cert_stability_rates.pt\", weights_only=True)\n",
    "roberta_mfaba_hard = torch.load(\"_cache/roberta_mfaba_cert_stability_rates.pt\", weights_only=True)\n",
    "roberta_random_hard = torch.load(\"_cache/roberta_random_cert_stability_rates.pt\", weights_only=True)"
   ]
  },
  {
   "cell_type": "code",
   "execution_count": 10,
   "id": "04c3276d-ae21-4a25-bf61-e4b0affad6db",
   "metadata": {},
   "outputs": [],
   "source": [
    "roberta_hard_dict = {\n",
    "    \"radii\": hard_radii.tolist(),\n",
    "    \"lime\": [(roberta_lime_hard >= r).float().mean().item() for r in hard_radii],\n",
    "    \"shap\": [(roberta_shap_hard >= r).float().mean().item() for r in hard_radii],\n",
    "    \"intgrad\": [(roberta_intgrad_hard >= r).float().mean().item() for r in hard_radii],\n",
    "    \"mfaba\": [(roberta_mfaba_hard >= r).float().mean().item() for r in hard_radii],\n",
    "    \"random\": [(roberta_random_hard >= r).float().mean().item() for r in hard_radii],\n",
    "}\n",
    "\n",
    "with open(\"_dump/json/roberta_hard_stability.json\", \"w\") as f:\n",
    "    f.write(json.dumps(roberta_hard_dict, indent=4))"
   ]
  },
  {
   "cell_type": "code",
   "execution_count": null,
   "id": "9d65720c-a3e9-4eff-8fc2-8ae12714e96e",
   "metadata": {},
   "outputs": [],
   "source": []
  },
  {
   "cell_type": "code",
   "execution_count": 11,
   "id": "18e40416-c241-4d1f-9bf0-f410dc40f223",
   "metadata": {},
   "outputs": [],
   "source": [
    "resnet_stability = torch.load(\"_cache/resnet_stability_vs_lambda_alpha0.25.pt\", weights_only=False)"
   ]
  },
  {
   "cell_type": "code",
   "execution_count": 12,
   "id": "77a3b326-bfa7-495a-b9f8-c5c09db665ba",
   "metadata": {},
   "outputs": [],
   "source": [
    "resnet_stability_dict = {\n",
    "    \"radii\": [10, 20, 30, 40, 50, 60, 70, 80, 90, 100],\n",
    "    \"lambda_1_0\": resnet_stability[\"stability_rates\"][0].tolist(),\n",
    "    \"lambda_0_8\": resnet_stability[\"stability_rates\"][1].tolist(),\n",
    "    \"lambda_0_6\": resnet_stability[\"stability_rates\"][2].tolist(),\n",
    "}\n",
    "\n",
    "with open(\"_dump/json/resnet_stability_vs_lambda.json\", \"w\") as f:\n",
    "    f.write(json.dumps(resnet_stability_dict, indent=4))"
   ]
  },
  {
   "cell_type": "code",
   "execution_count": null,
   "id": "a03a6ce0-795b-44b8-8ebc-ff85509b8542",
   "metadata": {},
   "outputs": [],
   "source": []
  },
  {
   "cell_type": "code",
   "execution_count": null,
   "id": "88e7d2e3-4e6f-4aae-a388-3e30db3da06c",
   "metadata": {},
   "outputs": [],
   "source": []
  }
 ],
 "metadata": {
  "kernelspec": {
   "display_name": "Python 3 (ipykernel)",
   "language": "python",
   "name": "python3"
  },
  "language_info": {
   "codemirror_mode": {
    "name": "ipython",
    "version": 3
   },
   "file_extension": ".py",
   "mimetype": "text/x-python",
   "name": "python",
   "nbconvert_exporter": "python",
   "pygments_lexer": "ipython3",
   "version": "3.10.13"
  }
 },
 "nbformat": 4,
 "nbformat_minor": 5
}
