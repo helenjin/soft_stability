{
 "cells": [
  {
   "cell_type": "code",
   "execution_count": 1,
   "id": "2125d096-54c2-46a1-9871-41301999693c",
   "metadata": {
    "tags": []
   },
   "outputs": [],
   "source": [
    "import math\n",
    "import torch\n",
    "import sys; sys.path.append(\"../src/\")\n",
    "from stability import sample_alpha_pertbs #, sample_alpha_pertbs_new"
   ]
  },
  {
   "cell_type": "code",
   "execution_count": 2,
   "id": "e60bb0fa-341d-4404-822a-9789bb856acc",
   "metadata": {},
   "outputs": [
    {
     "data": {
      "text/plain": [
       "tensor(5)"
      ]
     },
     "execution_count": 2,
     "metadata": {},
     "output_type": "execute_result"
    }
   ],
   "source": [
    "alpha = torch.tensor([0, 1, 0, 1, 0, 1, 0, 1, 0, 1])\n",
    "nz = alpha.size(-1) - alpha.sum()\n",
    "r = 2\n",
    "alpha.sum()"
   ]
  },
  {
   "cell_type": "code",
   "execution_count": null,
   "id": "138d3cbc-422e-45c0-aece-6d41aa687fae",
   "metadata": {},
   "outputs": [],
   "source": []
  },
  {
   "cell_type": "code",
   "execution_count": 3,
   "id": "6a7a5783-317b-404d-b843-964462eec90d",
   "metadata": {},
   "outputs": [],
   "source": [
    "alpha_pertbs = sample_alpha_pertbs(alpha, 2, 100000)\n",
    "# beta_pertbs = sample_alpha_pertbs_new(alpha, 2, 1000000)"
   ]
  },
  {
   "cell_type": "code",
   "execution_count": 4,
   "id": "b17444d9-c9ca-49c4-951f-6945e7c4595b",
   "metadata": {},
   "outputs": [
    {
     "data": {
      "text/plain": [
       "tensor(1.5650)"
      ]
     },
     "execution_count": 4,
     "metadata": {},
     "output_type": "execute_result"
    }
   ],
   "source": [
    "alpha_pertbs.sum(dim=-1).float().mean() - alpha.sum()"
   ]
  },
  {
   "cell_type": "code",
   "execution_count": null,
   "id": "42ae734f-9275-4550-87af-e5f00720b3a6",
   "metadata": {},
   "outputs": [],
   "source": []
  },
  {
   "cell_type": "code",
   "execution_count": null,
   "id": "46f04e8d-8a25-4996-9107-8f62cd62a34b",
   "metadata": {},
   "outputs": [],
   "source": []
  },
  {
   "cell_type": "code",
   "execution_count": null,
   "id": "b33f1a04-0e21-4b96-b6ea-353ba1c6ec7a",
   "metadata": {},
   "outputs": [],
   "source": []
  },
  {
   "cell_type": "code",
   "execution_count": null,
   "id": "322d6ea8-5769-481b-81c6-86da4cbaad16",
   "metadata": {},
   "outputs": [],
   "source": []
  },
  {
   "cell_type": "code",
   "execution_count": 6,
   "id": "36af820d-d511-4c0a-bd38-6c95b9c9f810",
   "metadata": {},
   "outputs": [],
   "source": [
    "mask_dim = 196\n",
    "top_k_frac = 0.25\n",
    "hot_bits = torch.randperm(mask_dim)[:int(mask_dim*top_k_frac)]\n",
    "random_alpha = torch.nn.functional.one_hot(hot_bits, num_classes=mask_dim).sum(dim=0).view(14, 14)"
   ]
  },
  {
   "cell_type": "code",
   "execution_count": 7,
   "id": "d09d69c0-5b2b-4ad9-916b-749fe8f151ca",
   "metadata": {},
   "outputs": [
    {
     "data": {
      "text/plain": [
       "tensor(49)"
      ]
     },
     "execution_count": 7,
     "metadata": {},
     "output_type": "execute_result"
    }
   ],
   "source": [
    "random_alpha.sum()"
   ]
  },
  {
   "cell_type": "code",
   "execution_count": 8,
   "id": "eb458c78-4740-4e04-b6dd-493f58d2572f",
   "metadata": {},
   "outputs": [
    {
     "data": {
      "text/plain": [
       "359.1342053695754"
      ]
     },
     "execution_count": 8,
     "metadata": {},
     "output_type": "execute_result"
    }
   ],
   "source": [
    "math.lgamma(100)"
   ]
  },
  {
   "cell_type": "code",
   "execution_count": 10,
   "id": "034c1c81-18b1-4599-9e20-bed57fa0c14c",
   "metadata": {},
   "outputs": [
    {
     "data": {
      "text/plain": [
       "tensor([-0.6549,  0.7622, -0.0359,  0.6128, -0.9488,  0.6997,  3.8574,  1.2755,\n",
       "         0.0938,  0.3542,  0.2330, -0.2121,  0.7641,  3.2868,  2.2744, -0.5099,\n",
       "         4.1001,  0.5265,  2.7008,  4.1996, -0.6879,  0.1997,  0.8495,  0.4632,\n",
       "         0.7364,  2.4169,  1.2932,  2.3021, -0.6564,  0.1467,  2.0085,  0.6773,\n",
       "         0.4716, -0.2447,  0.0607,  2.8071,  1.6534,  0.6001,  1.6391,  1.1565,\n",
       "         0.4348,  0.8384,  0.5059,  1.7474, -0.4901,  2.5635, -0.0990,  0.1030,\n",
       "         0.7143, -0.6821,  1.2256,  4.6288,  0.3597,  0.8042, -1.8118,  0.6011,\n",
       "         0.1916,  1.8530, -0.8750,  1.3837,  2.2986,  3.6205,  1.2259,  1.6460,\n",
       "        -1.3114,  0.9075,  0.0413,  0.6449,  0.7615, -0.8210, -0.1492, -1.5387,\n",
       "        -0.0705,  0.3574,  0.8441,  1.8692,  0.0328, -1.0835,  1.0089,  1.5795,\n",
       "        -0.9625,  0.8449,  1.7169,  0.2270,  0.2521,  0.3054,  3.5927,  1.0994,\n",
       "         2.3885,  0.4343,  1.2512,  0.1434,  1.4001,  1.4881, -1.0054,  0.3623,\n",
       "         0.9883,  1.8453,  0.3978,  0.0065])"
      ]
     },
     "execution_count": 10,
     "metadata": {},
     "output_type": "execute_result"
    }
   ],
   "source": [
    "-torch.log(-torch.log(torch.rand(100)))"
   ]
  },
  {
   "cell_type": "code",
   "execution_count": 11,
   "id": "113bee1c-f35d-4bb8-ab7e-5f66c14a574b",
   "metadata": {},
   "outputs": [
    {
     "data": {
      "text/plain": [
       "12.801827480081467"
      ]
     },
     "execution_count": 11,
     "metadata": {},
     "output_type": "execute_result"
    }
   ],
   "source": [
    "math.lgamma(10)"
   ]
  },
  {
   "cell_type": "code",
   "execution_count": null,
   "id": "832870f9-42aa-4b03-a589-7053d20b4e0e",
   "metadata": {},
   "outputs": [],
   "source": []
  }
 ],
 "metadata": {
  "kernelspec": {
   "display_name": "Python 3 (ipykernel)",
   "language": "python",
   "name": "python3"
  },
  "language_info": {
   "codemirror_mode": {
    "name": "ipython",
    "version": 3
   },
   "file_extension": ".py",
   "mimetype": "text/x-python",
   "name": "python",
   "nbconvert_exporter": "python",
   "pygments_lexer": "ipython3",
   "version": "3.10.10"
  }
 },
 "nbformat": 4,
 "nbformat_minor": 5
}
