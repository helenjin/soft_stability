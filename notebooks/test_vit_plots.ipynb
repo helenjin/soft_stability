{
 "cells": [
  {
   "cell_type": "code",
   "execution_count": 1,
   "id": "ddce10ca-9881-4940-a37f-bcf4752f5bef",
   "metadata": {
    "tags": []
   },
   "outputs": [
    {
     "name": "stderr",
     "output_type": "stream",
     "text": [
      "/opt/conda/envs/rapids/lib/python3.10/site-packages/torchvision/datapoints/__init__.py:12: UserWarning: The torchvision.datapoints and torchvision.transforms.v2 namespaces are still Beta. While we do not expect major breaking changes, some APIs may still change according to user feedback. Please submit any feedback you may have in this issue: https://github.com/pytorch/vision/issues/6753, and you can also check out https://github.com/pytorch/vision/issues/7319 to learn more about the APIs that we suspect might involve future changes. You can silence this warning by calling torchvision.disable_beta_transforms_warning().\n",
      "  warnings.warn(_BETA_TRANSFORMS_WARNING)\n",
      "/opt/conda/envs/rapids/lib/python3.10/site-packages/torchvision/transforms/v2/__init__.py:54: UserWarning: The torchvision.datapoints and torchvision.transforms.v2 namespaces are still Beta. While we do not expect major breaking changes, some APIs may still change according to user feedback. Please submit any feedback you may have in this issue: https://github.com/pytorch/vision/issues/6753, and you can also check out https://github.com/pytorch/vision/issues/7319 to learn more about the APIs that we suspect might involve future changes. You can silence this warning by calling torchvision.disable_beta_transforms_warning().\n",
      "  warnings.warn(_BETA_TRANSFORMS_WARNING)\n"
     ]
    }
   ],
   "source": [
    "import torch\n",
    "import matplotlib.pyplot as plt\n",
    "from tqdm.notebook import tqdm\n",
    "from transformers import ViTForImageClassification, AutoProcessor\n",
    "from pathlib import Path\n",
    "from torchvision.transforms import ToPILImage\n",
    "\n",
    "import sys; sys.path.append(\"../src/\")\n",
    "from stability import soft_stability_rate\n",
    "from models import MaskedImageClassifier, CertifiedMuSImageClassifier\n",
    "from image_utils import load_images_from_directory\n",
    "from explanations import \\\n",
    "    get_lime_for_image, get_shap_for_image, get_intgrad_for_image, get_mfaba_for_image\n",
    "\n",
    "device = \"cuda\" if torch.cuda.is_available() else \"cpu\""
   ]
  },
  {
   "cell_type": "code",
   "execution_count": 2,
   "id": "dd356bac-220c-403e-a3c1-46c389921c51",
   "metadata": {
    "tags": []
   },
   "outputs": [
    {
     "name": "stderr",
     "output_type": "stream",
     "text": [
      "Fast image processor class <class 'transformers.models.vit.image_processing_vit_fast.ViTImageProcessorFast'> is available for this model. Using slow image processor class. To use the fast image processor class set `use_fast=True`.\n"
     ]
    }
   ],
   "source": [
    "processor = AutoProcessor.from_pretrained('google/vit-base-patch16-224')"
   ]
  },
  {
   "cell_type": "code",
   "execution_count": 3,
   "id": "38ce2980-43de-4f70-a748-207f805ac353",
   "metadata": {
    "tags": []
   },
   "outputs": [
    {
     "name": "stdout",
     "output_type": "stream",
     "text": [
      "torch.Size([1000, 3, 224, 224])\n"
     ]
    }
   ],
   "source": [
    "# Load images; they will be ordered the same every time.\n",
    "images = load_images_from_directory(\"/shared_data0/helenjin/imagenet-sample-images/\")\n",
    "# images = images[:20]\n",
    "images = torch.tensor([processor(ToPILImage()(img))['pixel_values'] for img in images]).squeeze()\n",
    "print(images.shape)"
   ]
  },
  {
   "cell_type": "code",
   "execution_count": 4,
   "id": "29d123b9-ad09-4b4d-8e70-67c6e8a28fe1",
   "metadata": {
    "tags": []
   },
   "outputs": [],
   "source": [
    "# Load the model. This should be our custom fine-tuned models later!\n",
    "raw_vit = ViTForImageClassification.from_pretrained(\"google/vit-base-patch16-224\")\n",
    "raw_vit.eval().to(device);"
   ]
  },
  {
   "cell_type": "code",
   "execution_count": 5,
   "id": "13d98285-648a-4a0f-bd7d-9ec694a4f835",
   "metadata": {
    "tags": []
   },
   "outputs": [],
   "source": [
    "wrapped_vit = MaskedImageClassifier(raw_vit)\n",
    "wrapped_vit.eval().to(device);"
   ]
  },
  {
   "cell_type": "markdown",
   "id": "adfd488c-4d02-4c93-9de2-003723835b81",
   "metadata": {},
   "source": [
    "## Explanations take a while to generate, so we recommend using the cached version"
   ]
  },
  {
   "cell_type": "code",
   "execution_count": 6,
   "id": "85c4a0e9-ebe5-42f2-8149-2acf915fe5e2",
   "metadata": {
    "tags": []
   },
   "outputs": [],
   "source": [
    "# Generating explanations is expensive, so we'll cache things as needed\n",
    "use_cache = True # Set to false if you wanna do it from scratch\n",
    "cache_dir = Path(\"_cache\")\n",
    "lime_cache_file = cache_dir / \"vit_lime.pt\"\n",
    "shap_cache_file = cache_dir / \"vit_shap.pt\"\n",
    "intgrad_cache_file = cache_dir / \"vit_intgrad.pt\"\n",
    "mfaba_cache_file = cache_dir / \"vit_mfaba.pt\"\n",
    "cache_dir.mkdir(parents=True, exist_ok=True)"
   ]
  },
  {
   "cell_type": "code",
   "execution_count": 7,
   "id": "5048ae3c-5f6f-47eb-8aad-2fd2ee8a72ff",
   "metadata": {
    "tags": []
   },
   "outputs": [],
   "source": [
    "return_verbose = True\n",
    "\n",
    "if return_verbose:\n",
    "    cache_dir_full = Path(\"_cache/full_expln_output\")\n",
    "    cache_dir_full.mkdir(parents=True, exist_ok=True)\n",
    "    \n",
    "    cache_dir_attrs = Path(\"_cache/attrs\")\n",
    "    cache_dir_attrs.mkdir(parents=True, exist_ok=True)"
   ]
  },
  {
   "cell_type": "code",
   "execution_count": 8,
   "id": "51696487-5a55-4027-b903-e081f05d5e02",
   "metadata": {
    "tags": []
   },
   "outputs": [],
   "source": [
    "# return_verbose = False"
   ]
  },
  {
   "cell_type": "code",
   "execution_count": 9,
   "id": "477ae302-15ca-4fc8-a7be-9e7bd89a1726",
   "metadata": {
    "scrolled": true,
    "tags": []
   },
   "outputs": [
    {
     "name": "stdout",
     "output_type": "stream",
     "text": [
      "LIME explanations torch.Size([1000, 14, 14])\n"
     ]
    }
   ],
   "source": [
    "if lime_cache_file.exists() and use_cache:\n",
    "    lime_explanations = torch.load(lime_cache_file)\n",
    "else:\n",
    "    print(\"Running LIME\")\n",
    "    if return_verbose:\n",
    "        print(\"Saving everything\")\n",
    "        lime_explanations = []\n",
    "        for i, img in enumerate(tqdm(images)):\n",
    "            lime_expln_alpha, lime_expln, lime_expln_attrs = get_lime_for_image(wrapped_vit, img, return_verbose=True)\n",
    "            torch.save(lime_expln, cache_dir_full / f'vit_lime_img{i}.pt')\n",
    "            torch.save(lime_expln_attrs, cache_dir_attrs / f'vit_lime_img{i}.pt')\n",
    "            lime_explanations.append(lime_expln_alpha)\n",
    "        lime_explanations = torch.stack(lime_explanations)\n",
    "    else:\n",
    "        print(\"Saving just masked explanations\")\n",
    "        lime_explanations = torch.stack([get_lime_for_image(wrapped_vit, img) for img in tqdm(images)])\n",
    "    lime_explanations = torch.squeeze(lime_explanations)\n",
    "    torch.save(lime_explanations, lime_cache_file)\n",
    "print(\"LIME explanations\", lime_explanations.shape)"
   ]
  },
  {
   "cell_type": "code",
   "execution_count": 10,
   "id": "1c22aa6c-01b8-46ca-ac50-19aa42c4f18f",
   "metadata": {
    "tags": []
   },
   "outputs": [
    {
     "name": "stdout",
     "output_type": "stream",
     "text": [
      "SHAP explanations torch.Size([1000, 14, 14])\n"
     ]
    }
   ],
   "source": [
    "if shap_cache_file.exists() and use_cache:\n",
    "    shap_explanations = torch.load(shap_cache_file)\n",
    "else:\n",
    "    print(\"Running SHAP\")\n",
    "    if return_verbose:\n",
    "        print(\"Saving everything\")\n",
    "        shap_explanations = []\n",
    "        for i, img in enumerate(tqdm(images)):\n",
    "            shap_expln_alpha, shap_expln, shap_expln_attrs = get_shap_for_image(wrapped_vit, img, return_verbose=True)\n",
    "            torch.save(shap_expln, cache_dir_full / f'vit_shap_img{i}.pt')\n",
    "            torch.save(shap_expln_attrs, cache_dir_attrs / f'vit_shap_img{i}.pt')\n",
    "            shap_explanations.append(shap_expln_alpha)\n",
    "        shap_explanations = torch.stack(shap_explanations)\n",
    "    else:\n",
    "        print(\"Saving just masked explanations\")\n",
    "        shap_explanations = torch.stack([get_shap_for_image(wrapped_vit, img) for img in tqdm(images)])\n",
    "    shap_explanations = torch.squeeze(shap_explanations)\n",
    "    torch.save(shap_explanations, shap_cache_file)\n",
    "print(\"SHAP explanations\", shap_explanations.shape)"
   ]
  },
  {
   "cell_type": "code",
   "execution_count": 11,
   "id": "d07cddc1-e99f-4c95-b0b8-36d5821bc818",
   "metadata": {
    "tags": []
   },
   "outputs": [
    {
     "name": "stdout",
     "output_type": "stream",
     "text": [
      "Integrated Gradient explanations torch.Size([1000, 14, 14])\n"
     ]
    }
   ],
   "source": [
    "if intgrad_cache_file.exists() and use_cache:\n",
    "    intgrad_explanations = torch.load(intgrad_cache_file)\n",
    "else:\n",
    "    print(\"Running Integrated Gradients\")\n",
    "    if return_verbose:\n",
    "        print(\"Saving everything\")\n",
    "        intgrad_explanations = []\n",
    "        for i, img in enumerate(tqdm(images)):\n",
    "            intgrad_expln_alpha, intgrad_expln, intgrad_expln_attrs = get_intgrad_for_image(wrapped_vit, img, return_verbose=True)\n",
    "            torch.save(intgrad_expln, cache_dir_full / f'vit_intgrad_img{i}.pt')\n",
    "            torch.save(intgrad_expln_attrs, cache_dir_attrs / f'vit_intgrad_img{i}.pt')\n",
    "            intgrad_explanations.append(intgrad_expln_alpha)\n",
    "        intgrad_explanations = torch.stack(intgrad_explanations)\n",
    "    else:\n",
    "        print(\"Saving just masked explanations\")\n",
    "        intgrad_explanations = torch.stack([get_intgrad_for_image(wrapped_vit, img) for img in tqdm(images)])\n",
    "    intgrad_explanations = torch.squeeze(intgrad_explanations)\n",
    "    torch.save(intgrad_explanations, intgrad_cache_file)\n",
    "print(\"Integrated Gradient explanations\", intgrad_explanations.shape)"
   ]
  },
  {
   "cell_type": "code",
   "execution_count": 12,
   "id": "e2531c58-1faa-48ce-8e53-becaffcb728b",
   "metadata": {
    "tags": []
   },
   "outputs": [
    {
     "name": "stdout",
     "output_type": "stream",
     "text": [
      "MFABA explanations torch.Size([1000, 14, 14])\n"
     ]
    }
   ],
   "source": [
    "if mfaba_cache_file.exists() and use_cache:\n",
    "    mfaba_explanations = torch.load(mfaba_cache_file)\n",
    "else:\n",
    "    print(\"Running MFABA\")\n",
    "    if return_verbose:\n",
    "        print(\"Saving everything\")\n",
    "        mfaba_explanations = []\n",
    "        for i, img in enumerate(tqdm(images)):\n",
    "            mfaba_expln_alpha, mfaba_expln, mfaba_expln_attrs = get_mfaba_for_image(wrapped_vit, img, return_verbose=True)\n",
    "            torch.save(mfaba_expln, cache_dir_full / f'vit_mfaba_img{i}.pt')\n",
    "            torch.save(mfaba_expln_attrs, cache_dir_attrs / f'vit_mfaba_img{i}.pt')\n",
    "            mfaba_explanations.append(mfaba_expln_alpha)\n",
    "        mfaba_explanations = torch.stack(mfaba_explanations)\n",
    "    else:\n",
    "        print(\"Saving just masked explanations\")\n",
    "        mfaba_explanations = torch.stack([get_mfaba_for_image(raw_vit, img) for img in tqdm(images)])\n",
    "    mfaba_explanations = torch.squeeze(mfaba_explanations)\n",
    "    torch.save(mfaba_explanations, mfaba_cache_file)\n",
    "print(\"MFABA explanations\", mfaba_explanations.shape)"
   ]
  },
  {
   "cell_type": "markdown",
   "id": "9779e929-d906-4a6e-b187-e04d2e114ca9",
   "metadata": {},
   "source": [
    "## Soft stability rates for different models"
   ]
  },
  {
   "cell_type": "code",
   "execution_count": 13,
   "id": "c134e875-ea1d-441b-8637-c389139104fc",
   "metadata": {
    "tags": []
   },
   "outputs": [],
   "source": [
    "masked_vit = MaskedImageClassifier(raw_vit, grid_size=(14,14))\n",
    "masked_vit.eval().to(device)\n",
    "eps, delta = 0.1, 0.1\n",
    "all_radius = list(range(0, 196, 10))"
   ]
  },
  {
   "cell_type": "code",
   "execution_count": 14,
   "id": "fedb1cf2-d2bf-43d3-bdd9-fd3d2d45db3b",
   "metadata": {
    "tags": []
   },
   "outputs": [],
   "source": [
    "lime_stability_rates_file = cache_dir / \"vit_lime_stability_rates.pt\"\n",
    "shap_stability_rates_file = cache_dir / \"vit_shap_stability_rates.pt\"\n",
    "intgrad_stability_rates_file = cache_dir / \"vit_intgrad_stability_rates.pt\"\n",
    "mfaba_stability_rates_file = cache_dir / \"vit_mfaba_stability_rates.pt\""
   ]
  },
  {
   "cell_type": "code",
   "execution_count": 15,
   "id": "7b5f581f-bc13-4bc2-bda8-01b5f73bda40",
   "metadata": {
    "tags": []
   },
   "outputs": [
    {
     "name": "stdout",
     "output_type": "stream",
     "text": [
      "Loading LIME soft stability rates\n"
     ]
    }
   ],
   "source": [
    "if lime_stability_rates_file.exists() and use_cache:\n",
    "    print(\"Loading LIME soft stability rates\")\n",
    "    lime_stability_rates = torch.load(lime_stability_rates_file)\n",
    "else:\n",
    "    print(\"Computing LIME soft stability rates\")\n",
    "    lime_stability_rates = []\n",
    "    for img, exp in tqdm(zip(images, lime_explanations), total=len(images)):\n",
    "        lime_stability_rates.append(torch.stack([\n",
    "            soft_stability_rate(\n",
    "                masked_vit, x=img.to(device), alpha=exp.to(device), radius=r, epsilon=eps, delta=delta\n",
    "            ) for r in all_radius\n",
    "        ]))\n",
    "    lime_stability_rates = torch.stack(lime_stability_rates).cpu()\n",
    "    torch.save(lime_stability_rates, lime_stability_rates_file)"
   ]
  },
  {
   "cell_type": "code",
   "execution_count": 16,
   "id": "d00c1e37-1945-45c6-92bb-0d34072be5a6",
   "metadata": {
    "tags": []
   },
   "outputs": [
    {
     "name": "stdout",
     "output_type": "stream",
     "text": [
      "Loading SHAP soft stability rates\n"
     ]
    }
   ],
   "source": [
    "if shap_stability_rates_file.exists() and use_cache:\n",
    "    print(\"Loading SHAP soft stability rates\")\n",
    "    shap_stability_rates = torch.load(shap_stability_rates_file)\n",
    "else:\n",
    "    print(\"Computing SHAP soft stability rates\")\n",
    "    shap_stability_rates = []\n",
    "    for img, exp in tqdm(zip(images, shap_explanations), total=len(images)):\n",
    "        shap_stability_rates.append(torch.stack([\n",
    "            soft_stability_rate(\n",
    "                masked_vit, x=img.to(device), alpha=exp.to(device), radius=r, epsilon=eps, delta=delta\n",
    "            ) for r in all_radius\n",
    "        ]))\n",
    "    shap_stability_rates = torch.stack(shap_stability_rates).cpu()\n",
    "    torch.save(shap_stability_rates, shap_stability_rates_file)"
   ]
  },
  {
   "cell_type": "code",
   "execution_count": 17,
   "id": "ff705f3c-e2fd-4a0a-81c7-6e5d7d068386",
   "metadata": {
    "tags": []
   },
   "outputs": [
    {
     "name": "stdout",
     "output_type": "stream",
     "text": [
      "Computing IntGrad soft stability rates\n"
     ]
    },
    {
     "data": {
      "application/vnd.jupyter.widget-view+json": {
       "model_id": "d52b26da589f445fb474f867b9a86f6f",
       "version_major": 2,
       "version_minor": 0
      },
      "text/plain": [
       "  0%|          | 0/1000 [00:00<?, ?it/s]"
      ]
     },
     "metadata": {},
     "output_type": "display_data"
    }
   ],
   "source": [
    "if intgrad_stability_rates_file.exists() and use_cache:\n",
    "    print(\"Loading IntGrad soft stability rates\")\n",
    "    intgrad_stability_rates = torch.load(intgrad_stability_rates_file)\n",
    "else:\n",
    "    print(\"Computing IntGrad soft stability rates\")\n",
    "    intgrad_stability_rates = []\n",
    "    for img, exp in tqdm(zip(images, intgrad_explanations), total=len(images)):\n",
    "        intgrad_stability_rates.append(torch.stack([\n",
    "            soft_stability_rate(\n",
    "                masked_vit, x=img.to(device), alpha=exp.to(device), radius=r, epsilon=eps, delta=delta\n",
    "            ) for r in all_radius\n",
    "        ]))\n",
    "    intgrad_stability_rates = torch.stack(intgrad_stability_rates).cpu()\n",
    "    torch.save(intgrad_stability_rates, intgrad_stability_rates_file)"
   ]
  },
  {
   "cell_type": "code",
   "execution_count": 18,
   "id": "3dfcc8b3-c652-4816-ad00-33d95a4f0eca",
   "metadata": {
    "tags": []
   },
   "outputs": [
    {
     "name": "stdout",
     "output_type": "stream",
     "text": [
      "Computing MFABA soft stability rates\n"
     ]
    },
    {
     "data": {
      "application/vnd.jupyter.widget-view+json": {
       "model_id": "c4c159619b4d4507b5b9b5a94a9dfe9b",
       "version_major": 2,
       "version_minor": 0
      },
      "text/plain": [
       "  0%|          | 0/1000 [00:00<?, ?it/s]"
      ]
     },
     "metadata": {},
     "output_type": "display_data"
    }
   ],
   "source": [
    "if mfaba_stability_rates_file.exists() and use_cache:\n",
    "    print(\"Loading MFABA soft stability rates\")\n",
    "    mfaba_stability_rates = torch.load(mfaba_stability_rates_file)\n",
    "else:\n",
    "    print(\"Computing MFABA soft stability rates\")\n",
    "    mfaba_stability_rates = []\n",
    "    for img, exp in tqdm(zip(images, mfaba_explanations), total=len(images)):\n",
    "        mfaba_stability_rates.append(torch.stack([\n",
    "            soft_stability_rate(\n",
    "                masked_vit, x=img.to(device), alpha=exp.to(device), radius=r, epsilon=eps, delta=delta\n",
    "            ) for r in all_radius\n",
    "        ]))\n",
    "    mfaba_stability_rates = torch.stack(mfaba_stability_rates).cpu()\n",
    "    torch.save(mfaba_stability_rates, mfaba_stability_rates_file)"
   ]
  },
  {
   "cell_type": "code",
   "execution_count": 19,
   "id": "83523270-e92c-4b92-b844-26d0b5d99392",
   "metadata": {
    "tags": []
   },
   "outputs": [
    {
     "data": {
      "text/plain": [
       "<Figure size 640x480 with 0 Axes>"
      ]
     },
     "metadata": {},
     "output_type": "display_data"
    },
    {
     "data": {
      "image/png": "[encoded data removed]",
      "text/plain": [
       "<Figure size 300x200 with 1 Axes>"
      ]
     },
     "metadata": {},
     "output_type": "display_data"
    }
   ],
   "source": [
    "plt.clf()\n",
    "plt.figure(figsize=(3, 2))\n",
    "plt.plot(all_radius, lime_stability_rates.cpu().mean(dim=0).numpy(), label=\"LIME\")\n",
    "plt.plot(all_radius, shap_stability_rates.cpu().mean(dim=0).numpy(), label=\"SHAP\")\n",
    "plt.plot(all_radius, intgrad_stability_rates.cpu().mean(dim=0).numpy(), label=\"IntGrad\")\n",
    "plt.plot(all_radius, mfaba_stability_rates.cpu().mean(dim=0).numpy(), label=\"MFABA\")\n",
    "plt.xlabel('Radius')\n",
    "plt.ylabel('Stability Rate')\n",
    "plt.legend(title=\"ViT\", loc=\"upper right\", prop={'size': 7})\n",
    "plt.title('Soft Stability')\n",
    "plt.savefig('_dump/vit_imagenet_ssg_1k', bbox_inches=\"tight\")\n",
    "plt.show()\n"
   ]
  },
  {
   "cell_type": "markdown",
   "id": "1516c4b4-2403-4dac-b278-2ede2e663505",
   "metadata": {},
   "source": [
    "## As a comparison, here are the certified radii when old-MuS uses lambda=0.25"
   ]
  },
  {
   "cell_type": "code",
   "execution_count": 20,
   "id": "900b4324-b403-4ea5-87cf-72ae81a2d3ac",
   "metadata": {},
   "outputs": [],
   "source": [
    "cert_mus_vit = CertifiedMuSImageClassifier(raw_vit, lambda_=0.25)"
   ]
  },
  {
   "cell_type": "code",
   "execution_count": 21,
   "id": "a8cbda28-fed5-44c3-a3fc-6bf8f9d8d245",
   "metadata": {},
   "outputs": [
    {
     "data": {
      "application/vnd.jupyter.widget-view+json": {
       "model_id": "caf8c90d25694ed08dcc929ce110ddae",
       "version_major": 2,
       "version_minor": 0
      },
      "text/plain": [
       "  0%|          | 0/1000 [00:00<?, ?it/s]"
      ]
     },
     "metadata": {},
     "output_type": "display_data"
    },
    {
     "data": {
      "application/vnd.jupyter.widget-view+json": {
       "model_id": "5eee66bad3494fad9cfb562dc6479c4a",
       "version_major": 2,
       "version_minor": 0
      },
      "text/plain": [
       "  0%|          | 0/1000 [00:00<?, ?it/s]"
      ]
     },
     "metadata": {},
     "output_type": "display_data"
    },
    {
     "data": {
      "application/vnd.jupyter.widget-view+json": {
       "model_id": "bd05be6995854ad4b5646cd7b2284800",
       "version_major": 2,
       "version_minor": 0
      },
      "text/plain": [
       "  0%|          | 0/1000 [00:00<?, ?it/s]"
      ]
     },
     "metadata": {},
     "output_type": "display_data"
    },
    {
     "data": {
      "application/vnd.jupyter.widget-view+json": {
       "model_id": "126a352d9d1b453e84125a0dbfb83e2d",
       "version_major": 2,
       "version_minor": 0
      },
      "text/plain": [
       "  0%|          | 0/1000 [00:00<?, ?it/s]"
      ]
     },
     "metadata": {},
     "output_type": "display_data"
    }
   ],
   "source": [
    "cert_lime_stability_rates = torch.cat([\n",
    "    cert_mus_vit(img.unsqueeze(0).to(device), alpha=exp.unsqueeze(0).to(device))[\"cert_rs\"]\n",
    "    for img, exp in tqdm(zip(images, lime_explanations), total=len(images))\n",
    "], dim=0).cpu()\n",
    "\n",
    "cert_shap_stability_rates = torch.cat([\n",
    "    cert_mus_vit(img.unsqueeze(0).to(device), alpha=exp.unsqueeze(0).to(device))[\"cert_rs\"]\n",
    "    for img, exp in tqdm(zip(images, shap_explanations), total=len(images))\n",
    "], dim=0).cpu()\n",
    "\n",
    "cert_intgrad_stability_rates = torch.cat([\n",
    "    cert_mus_vit(img.unsqueeze(0).to(device), alpha=exp.unsqueeze(0).to(device))[\"cert_rs\"]\n",
    "    for img, exp in tqdm(zip(images, intgrad_explanations), total=len(images))\n",
    "], dim=0).cpu()\n",
    "\n",
    "cert_mfaba_stability_rates = torch.cat([\n",
    "    cert_mus_vit(img.unsqueeze(0).to(device), alpha=exp.unsqueeze(0).to(device))[\"cert_rs\"]\n",
    "    for img, exp in tqdm(zip(images, mfaba_explanations), total=len(images))\n",
    "], dim=0).cpu()"
   ]
  },
  {
   "cell_type": "code",
   "execution_count": 22,
   "id": "0a4b60f5-bf0d-41fd-8765-22dd96efeba3",
   "metadata": {},
   "outputs": [],
   "source": [
    "torch.save(cert_lime_stability_rates, cache_dir / \"vit_lime_cert_stability_rates.pt\")\n",
    "torch.save(cert_shap_stability_rates, cache_dir / \"vit_shap_cert_stability_rates.pt\")\n",
    "torch.save(cert_intgrad_stability_rates, cache_dir / \"vit_intgrad_cert_stability_rates.pt\")\n",
    "torch.save(cert_mfaba_stability_rates, cache_dir / \"vit_mfaba_cert_stability_rates.pt\")"
   ]
  },
  {
   "cell_type": "code",
   "execution_count": 23,
   "id": "d89dbbb9-e50f-419f-a3a1-b6a9be39189d",
   "metadata": {
    "tags": []
   },
   "outputs": [],
   "source": [
    "cert_lime_stability_rates = torch.load(cache_dir / \"vit_lime_cert_stability_rates.pt\")\n",
    "cert_shap_stability_rates = torch.load(cache_dir / \"vit_shap_cert_stability_rates.pt\")\n",
    "cert_intgrad_stability_rates = torch.load(cache_dir / \"vit_intgrad_cert_stability_rates.pt\")\n",
    "cert_mfaba_stability_rates = torch.load(cache_dir / \"vit_mfaba_cert_stability_rates.pt\")"
   ]
  },
  {
   "cell_type": "code",
   "execution_count": 24,
   "id": "8c350205-de4d-49ec-8d5d-a8959284a55d",
   "metadata": {
    "tags": []
   },
   "outputs": [
    {
     "data": {
      "text/plain": [
       "<Figure size 640x480 with 0 Axes>"
      ]
     },
     "metadata": {},
     "output_type": "display_data"
    },
    {
     "data": {
      "image/png": "[encoded data removed]",
      "text/plain": [
       "<Figure size 300x200 with 1 Axes>"
      ]
     },
     "metadata": {},
     "output_type": "display_data"
    }
   ],
   "source": [
    "plt.clf()\n",
    "plt.figure(figsize=(3, 2))\n",
    "plt.plot(cert_lime_stability_rates.sort(descending=True).values, [0.001 * i for i in range(0, 1000)], label=\"LIME\")\n",
    "plt.plot(cert_shap_stability_rates.sort(descending=True).values, [0.001 * i for i in range(0, 1000)], label=\"SHAP\")\n",
    "plt.plot(cert_intgrad_stability_rates.sort(descending=True).values, [0.001 * i for i in range(0, 1000)], label=\"IntGrad\")\n",
    "plt.plot(cert_mfaba_stability_rates.sort(descending=True).values, [0.001 * i for i in range(0, 1000)], label=\"MFABA\")\n",
    "plt.xlabel('Radius')\n",
    "plt.ylabel('Stability Rate')\n",
    "plt.legend(title=\"ViT\", loc=\"upper right\", prop={'size': 7})\n",
    "plt.title('Hard Stability')\n",
    "plt.savefig('_dump/vit_imagenet_hard_1k', bbox_inches=\"tight\")\n"
   ]
  },
  {
   "cell_type": "markdown",
   "id": "131ff7b7-4763-4ac9-9c9c-ea45d142f278",
   "metadata": {},
   "source": [
    "## Combine soft and hard stability in the same plot"
   ]
  },
  {
   "cell_type": "code",
   "execution_count": 25,
   "id": "d5e12af2-d2ca-4649-88b8-266844913155",
   "metadata": {
    "tags": []
   },
   "outputs": [
    {
     "data": {
      "text/plain": [
       "<Figure size 640x480 with 0 Axes>"
      ]
     },
     "metadata": {},
     "output_type": "display_data"
    },
    {
     "data": {
      "image/png": "[encoded data removed]",
      "text/plain": [
       "<Figure size 600x400 with 1 Axes>"
      ]
     },
     "metadata": {},
     "output_type": "display_data"
    }
   ],
   "source": [
    "plt.clf()\n",
    "plt.figure(figsize=(6, 4))\n",
    "plt.plot(all_radius, lime_stability_rates.cpu().mean(dim=0).numpy(), label=\"LIME Soft\")\n",
    "plt.plot(all_radius, shap_stability_rates.cpu().mean(dim=0).numpy(), label=\"SHAP Soft\")\n",
    "plt.plot(all_radius, intgrad_stability_rates.cpu().mean(dim=0).numpy(), label=\"IntGrad Soft\")\n",
    "plt.plot(all_radius, mfaba_stability_rates.cpu().mean(dim=0).numpy(), label=\"MFABA Soft\")\n",
    "\n",
    "plt.plot(cert_lime_stability_rates.sort(descending=True).values, [0.001 * i for i in range(0, len(images))], label=\"LIME Hard\", color=\"#1f77b4\")\n",
    "plt.plot(cert_shap_stability_rates.sort(descending=True).values, [0.001 * i for i in range(0, len(images))], label=\"SHAP Hard\", color=\"#ff7f0e\")\n",
    "plt.plot(cert_intgrad_stability_rates.sort(descending=True).values, [0.001 * i for i in range(0, len(images))], label=\"IntGrad Hard\", color=\"#2ca02c\")\n",
    "plt.plot(cert_mfaba_stability_rates.sort(descending=True).values, [0.001 * i for i in range(0, len(images))], label=\"MFABA Hard\", color=\"#d62728\")\n",
    "plt.xlabel('Radius')\n",
    "plt.ylabel('Stability Rate')\n",
    "plt.legend(title=\"ViT\", loc=\"upper right\", prop={'size': 7})\n",
    "plt.title('Soft vs. Hard Stability')\n",
    "plt.savefig('_dump/vit_imagenet_softvhard_1k', bbox_inches=\"tight\")\n"
   ]
  },
  {
   "cell_type": "code",
   "execution_count": null,
   "id": "01d80815-d1ab-4ab6-8c34-7b80aee2ff3f",
   "metadata": {},
   "outputs": [],
   "source": []
  }
 ],
 "metadata": {
  "kernelspec": {
   "display_name": "Python 3 (ipykernel)",
   "language": "python",
   "name": "python3"
  },
  "language_info": {
   "codemirror_mode": {
    "name": "ipython",
    "version": 3
   },
   "file_extension": ".py",
   "mimetype": "text/x-python",
   "name": "python",
   "nbconvert_exporter": "python",
   "pygments_lexer": "ipython3",
   "version": "3.10.10"
  }
 },
 "nbformat": 4,
 "nbformat_minor": 5
}
